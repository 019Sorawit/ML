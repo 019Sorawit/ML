{
  "nbformat": 4,
  "nbformat_minor": 0,
  "metadata": {
    "colab": {
      "name": "Weight&hair length-019.ipynb",
      "provenance": [],
      "collapsed_sections": [],
      "authorship_tag": "ABX9TyPd54Ncb6DruWgwlaAIoh1m",
      "include_colab_link": true
    },
    "kernelspec": {
      "name": "python3",
      "display_name": "Python 3"
    },
    "language_info": {
      "name": "python"
    }
  },
  "cells": [
    {
      "cell_type": "markdown",
      "metadata": {
        "id": "view-in-github",
        "colab_type": "text"
      },
      "source": [
        "<a href=\"https://colab.research.google.com/github/019Sorawit/ML/blob/main/Weight%26hair_length_019.ipynb\" target=\"_parent\"><img src=\"https://colab.research.google.com/assets/colab-badge.svg\" alt=\"Open In Colab\"/></a>"
      ]
    },
    {
      "cell_type": "code",
      "metadata": {
        "id": "WZjdSQT3ZQRK"
      },
      "source": [
        "import pandas as pd #เรียกใช้ paddas \n",
        "import math #เรียกใช้ math\n",
        "import matplotlib.pyplot as plt #เรียกใช้การสร้างกราฟต่างๆ"
      ],
      "execution_count": null,
      "outputs": []
    },
    {
      "cell_type": "code",
      "metadata": {
        "id": "_nunLGtyZaVh"
      },
      "source": [
        "df_weight=pd.DataFrame({'weight(X)':[50,60,60,55,54,53,70,40,60,65],\n",
        "                 'hair length(Y)':[7,8,7,6,6,7,8,3,8,9]})"
      ],
      "execution_count": null,
      "outputs": []
    },
    {
      "cell_type": "code",
      "metadata": {
        "id": "Fa1CKtQHZsJJ"
      },
      "source": [
        "df_weight['X2'] =df_weight['weight(X)']**2\n",
        "df_weight['XY'] =df_weight['weight(X)']*df_weight['hair length(Y)']"
      ],
      "execution_count": null,
      "outputs": []
    },
    {
      "cell_type": "code",
      "metadata": {
        "colab": {
          "base_uri": "https://localhost:8080/",
          "height": 351
        },
        "id": "iUC1L5pKZ4_I",
        "outputId": "c408a82c-c901-47f2-b85f-762be3a797c0"
      },
      "source": [
        "df_weight"
      ],
      "execution_count": null,
      "outputs": [
        {
          "output_type": "execute_result",
          "data": {
            "text/html": [
              "<div>\n",
              "<style scoped>\n",
              "    .dataframe tbody tr th:only-of-type {\n",
              "        vertical-align: middle;\n",
              "    }\n",
              "\n",
              "    .dataframe tbody tr th {\n",
              "        vertical-align: top;\n",
              "    }\n",
              "\n",
              "    .dataframe thead th {\n",
              "        text-align: right;\n",
              "    }\n",
              "</style>\n",
              "<table border=\"1\" class=\"dataframe\">\n",
              "  <thead>\n",
              "    <tr style=\"text-align: right;\">\n",
              "      <th></th>\n",
              "      <th>weight(X)</th>\n",
              "      <th>hair length(Y)</th>\n",
              "      <th>X2</th>\n",
              "      <th>XY</th>\n",
              "    </tr>\n",
              "  </thead>\n",
              "  <tbody>\n",
              "    <tr>\n",
              "      <th>0</th>\n",
              "      <td>50</td>\n",
              "      <td>7</td>\n",
              "      <td>2500</td>\n",
              "      <td>350</td>\n",
              "    </tr>\n",
              "    <tr>\n",
              "      <th>1</th>\n",
              "      <td>60</td>\n",
              "      <td>8</td>\n",
              "      <td>3600</td>\n",
              "      <td>480</td>\n",
              "    </tr>\n",
              "    <tr>\n",
              "      <th>2</th>\n",
              "      <td>60</td>\n",
              "      <td>7</td>\n",
              "      <td>3600</td>\n",
              "      <td>420</td>\n",
              "    </tr>\n",
              "    <tr>\n",
              "      <th>3</th>\n",
              "      <td>55</td>\n",
              "      <td>6</td>\n",
              "      <td>3025</td>\n",
              "      <td>330</td>\n",
              "    </tr>\n",
              "    <tr>\n",
              "      <th>4</th>\n",
              "      <td>54</td>\n",
              "      <td>6</td>\n",
              "      <td>2916</td>\n",
              "      <td>324</td>\n",
              "    </tr>\n",
              "    <tr>\n",
              "      <th>5</th>\n",
              "      <td>53</td>\n",
              "      <td>7</td>\n",
              "      <td>2809</td>\n",
              "      <td>371</td>\n",
              "    </tr>\n",
              "    <tr>\n",
              "      <th>6</th>\n",
              "      <td>70</td>\n",
              "      <td>8</td>\n",
              "      <td>4900</td>\n",
              "      <td>560</td>\n",
              "    </tr>\n",
              "    <tr>\n",
              "      <th>7</th>\n",
              "      <td>40</td>\n",
              "      <td>3</td>\n",
              "      <td>1600</td>\n",
              "      <td>120</td>\n",
              "    </tr>\n",
              "    <tr>\n",
              "      <th>8</th>\n",
              "      <td>60</td>\n",
              "      <td>8</td>\n",
              "      <td>3600</td>\n",
              "      <td>480</td>\n",
              "    </tr>\n",
              "    <tr>\n",
              "      <th>9</th>\n",
              "      <td>65</td>\n",
              "      <td>9</td>\n",
              "      <td>4225</td>\n",
              "      <td>585</td>\n",
              "    </tr>\n",
              "  </tbody>\n",
              "</table>\n",
              "</div>"
            ],
            "text/plain": [
              "   weight(X)  hair length(Y)    X2   XY\n",
              "0         50               7  2500  350\n",
              "1         60               8  3600  480\n",
              "2         60               7  3600  420\n",
              "3         55               6  3025  330\n",
              "4         54               6  2916  324\n",
              "5         53               7  2809  371\n",
              "6         70               8  4900  560\n",
              "7         40               3  1600  120\n",
              "8         60               8  3600  480\n",
              "9         65               9  4225  585"
            ]
          },
          "metadata": {
            "tags": []
          },
          "execution_count": 4
        }
      ]
    },
    {
      "cell_type": "code",
      "metadata": {
        "colab": {
          "base_uri": "https://localhost:8080/"
        },
        "id": "Q5xPcaWMZ5rQ",
        "outputId": "082194cd-7b0c-46c2-c50b-d83b3b7fb850"
      },
      "source": [
        "print('Sum :weight(X)=',df_weight['weight(X)'].sum())\n",
        "print('Sum :hair length(Y)=',df_weight['hair length(Y)'].sum())"
      ],
      "execution_count": null,
      "outputs": [
        {
          "output_type": "stream",
          "text": [
            "Sum :weight(X)= 567\n",
            "Sum :hair length(Y)= 69\n"
          ],
          "name": "stdout"
        }
      ]
    },
    {
      "cell_type": "code",
      "metadata": {
        "colab": {
          "base_uri": "https://localhost:8080/"
        },
        "id": "X5nBRPBwaAVD",
        "outputId": "7faf0f31-ff36-4207-d85a-9f852afcb52e"
      },
      "source": [
        "X_mean = df_weight['weight(X)'].mean()\n",
        "print('ค่าเฉลี่ยของ X : ',X_mean) \n",
        "Y_mean = df_weight['hair length(Y)'].mean()\n",
        "print('ค่าเฉลี่ยของ Y : ',Y_mean) "
      ],
      "execution_count": null,
      "outputs": [
        {
          "output_type": "stream",
          "text": [
            "ค่าเฉลี่ยของ X :  56.7\n",
            "ค่าเฉลี่ยของ Y :  6.9\n"
          ],
          "name": "stdout"
        }
      ]
    },
    {
      "cell_type": "code",
      "metadata": {
        "colab": {
          "base_uri": "https://localhost:8080/"
        },
        "id": "Oiz_j5Kabbkf",
        "outputId": "abe617b1-b3cb-4e9e-dadf-7884e4cde525"
      },
      "source": [
        "print('ผลรวมของ X2 : ',df_weight['X2'].sum()) \n",
        "print('ผลรวมของ XY : ',df_weight['XY'].sum()) "
      ],
      "execution_count": null,
      "outputs": [
        {
          "output_type": "stream",
          "text": [
            "ผลรวมของ X2 :  32775\n",
            "ผลรวมของ XY :  4020\n"
          ],
          "name": "stdout"
        }
      ]
    },
    {
      "cell_type": "code",
      "metadata": {
        "colab": {
          "base_uri": "https://localhost:8080/"
        },
        "id": "aK3_CreneVsm",
        "outputId": "c7983f3e-0709-4fc1-9d4b-110c327c9bc0"
      },
      "source": [
        "meanX_2 = df_weight['weight(X)'].mean()**2\n",
        "print('ค่าเฉลี่ยของ X_2 : ',meanX_2)\n",
        "meanX2_ = df_weight['X2'].mean()\n",
        "print('ค่าเฉลี่ยของ X2_ : ',meanX2_)\n",
        "meanXY_ = df_weight['XY'].mean()\n",
        "print('ค่าเฉลี่ยของ XY  : ',meanXY_)"
      ],
      "execution_count": null,
      "outputs": [
        {
          "output_type": "stream",
          "text": [
            "ค่าเฉลี่ยของ X_2 :  3214.8900000000003\n",
            "ค่าเฉลี่ยของ X2_ :  3277.5\n",
            "ค่าเฉลี่ยของ XY  :  402.0\n"
          ],
          "name": "stdout"
        }
      ]
    },
    {
      "cell_type": "code",
      "metadata": {
        "id": "nwLMgMdG51qC",
        "colab": {
          "base_uri": "https://localhost:8080/"
        },
        "outputId": "b3d19eb5-764d-4038-81be-838e607b7527"
      },
      "source": [
        "suma = (meanXY_-(X_mean*Y_mean))/(meanX2_-meanX_2)\n",
        "print('ค่า A :',suma)\n",
        "sumb = ((meanX2_*Y_mean)-(meanXY_*X_mean))/(meanX2_-meanX_2)\n",
        "print('ค่า B :',sumb)"
      ],
      "execution_count": null,
      "outputs": [
        {
          "output_type": "stream",
          "text": [
            "ค่า A : 0.17201724964063309\n",
            "ค่า B : -2.8533780546239003\n"
          ],
          "name": "stdout"
        }
      ]
    },
    {
      "cell_type": "markdown",
      "metadata": {
        "id": "soR7cdYAhm5G"
      },
      "source": [
        "#หา R"
      ]
    },
    {
      "cell_type": "code",
      "metadata": {
        "id": "iBOEhd0lhOqw"
      },
      "source": [
        "df_weight1=pd.DataFrame({'weight(X)':[50,60,60,55,54,53,70,40,60,65],\n",
        "                 'hair length(Y)':[7,8,7,6,6,7,8,3,8,9]})"
      ],
      "execution_count": null,
      "outputs": []
    },
    {
      "cell_type": "code",
      "metadata": {
        "id": "nWPledOWhyWf"
      },
      "source": [
        "df_weight1['X-X_'] = df_weight1['weight(X)']-(df_weight1['weight(X)'].mean())\n",
        "df_weight1['(X-X_)^2'] = (df_weight1['weight(X)']-(df_weight1['weight(X)'].mean()))**2\n",
        "df_weight1['Y-Y_'] = df_weight1['hair length(Y)']-(df_weight1['hair length(Y)'].mean()) \n",
        "df_weight1['(Y-Y_)^2'] = (df_weight1['hair length(Y)']-(df_weight1['hair length(Y)'].mean()))**2"
      ],
      "execution_count": null,
      "outputs": []
    },
    {
      "cell_type": "code",
      "metadata": {
        "id": "kQvmZ80ph5or"
      },
      "source": [
        "df_weight1['(X-X_)*(Y-Y_)']= df_weight1['X-X_']*df_weight1['Y-Y_']"
      ],
      "execution_count": null,
      "outputs": []
    },
    {
      "cell_type": "code",
      "metadata": {
        "colab": {
          "base_uri": "https://localhost:8080/",
          "height": 351
        },
        "id": "e8nkaq9Jsmjh",
        "outputId": "493ce416-05ca-44c9-d4ad-c0c6af590597"
      },
      "source": [
        "df_weight1"
      ],
      "execution_count": null,
      "outputs": [
        {
          "output_type": "execute_result",
          "data": {
            "text/html": [
              "<div>\n",
              "<style scoped>\n",
              "    .dataframe tbody tr th:only-of-type {\n",
              "        vertical-align: middle;\n",
              "    }\n",
              "\n",
              "    .dataframe tbody tr th {\n",
              "        vertical-align: top;\n",
              "    }\n",
              "\n",
              "    .dataframe thead th {\n",
              "        text-align: right;\n",
              "    }\n",
              "</style>\n",
              "<table border=\"1\" class=\"dataframe\">\n",
              "  <thead>\n",
              "    <tr style=\"text-align: right;\">\n",
              "      <th></th>\n",
              "      <th>weight(X)</th>\n",
              "      <th>hair length(Y)</th>\n",
              "      <th>X-X_</th>\n",
              "      <th>(X-X_)^2</th>\n",
              "      <th>Y-Y_</th>\n",
              "      <th>(Y-Y_)^2</th>\n",
              "      <th>(X-X_)*(Y-Y_)</th>\n",
              "    </tr>\n",
              "  </thead>\n",
              "  <tbody>\n",
              "    <tr>\n",
              "      <th>0</th>\n",
              "      <td>50</td>\n",
              "      <td>7</td>\n",
              "      <td>-6.7</td>\n",
              "      <td>44.89</td>\n",
              "      <td>0.1</td>\n",
              "      <td>0.01</td>\n",
              "      <td>-0.67</td>\n",
              "    </tr>\n",
              "    <tr>\n",
              "      <th>1</th>\n",
              "      <td>60</td>\n",
              "      <td>8</td>\n",
              "      <td>3.3</td>\n",
              "      <td>10.89</td>\n",
              "      <td>1.1</td>\n",
              "      <td>1.21</td>\n",
              "      <td>3.63</td>\n",
              "    </tr>\n",
              "    <tr>\n",
              "      <th>2</th>\n",
              "      <td>60</td>\n",
              "      <td>7</td>\n",
              "      <td>3.3</td>\n",
              "      <td>10.89</td>\n",
              "      <td>0.1</td>\n",
              "      <td>0.01</td>\n",
              "      <td>0.33</td>\n",
              "    </tr>\n",
              "    <tr>\n",
              "      <th>3</th>\n",
              "      <td>55</td>\n",
              "      <td>6</td>\n",
              "      <td>-1.7</td>\n",
              "      <td>2.89</td>\n",
              "      <td>-0.9</td>\n",
              "      <td>0.81</td>\n",
              "      <td>1.53</td>\n",
              "    </tr>\n",
              "    <tr>\n",
              "      <th>4</th>\n",
              "      <td>54</td>\n",
              "      <td>6</td>\n",
              "      <td>-2.7</td>\n",
              "      <td>7.29</td>\n",
              "      <td>-0.9</td>\n",
              "      <td>0.81</td>\n",
              "      <td>2.43</td>\n",
              "    </tr>\n",
              "    <tr>\n",
              "      <th>5</th>\n",
              "      <td>53</td>\n",
              "      <td>7</td>\n",
              "      <td>-3.7</td>\n",
              "      <td>13.69</td>\n",
              "      <td>0.1</td>\n",
              "      <td>0.01</td>\n",
              "      <td>-0.37</td>\n",
              "    </tr>\n",
              "    <tr>\n",
              "      <th>6</th>\n",
              "      <td>70</td>\n",
              "      <td>8</td>\n",
              "      <td>13.3</td>\n",
              "      <td>176.89</td>\n",
              "      <td>1.1</td>\n",
              "      <td>1.21</td>\n",
              "      <td>14.63</td>\n",
              "    </tr>\n",
              "    <tr>\n",
              "      <th>7</th>\n",
              "      <td>40</td>\n",
              "      <td>3</td>\n",
              "      <td>-16.7</td>\n",
              "      <td>278.89</td>\n",
              "      <td>-3.9</td>\n",
              "      <td>15.21</td>\n",
              "      <td>65.13</td>\n",
              "    </tr>\n",
              "    <tr>\n",
              "      <th>8</th>\n",
              "      <td>60</td>\n",
              "      <td>8</td>\n",
              "      <td>3.3</td>\n",
              "      <td>10.89</td>\n",
              "      <td>1.1</td>\n",
              "      <td>1.21</td>\n",
              "      <td>3.63</td>\n",
              "    </tr>\n",
              "    <tr>\n",
              "      <th>9</th>\n",
              "      <td>65</td>\n",
              "      <td>9</td>\n",
              "      <td>8.3</td>\n",
              "      <td>68.89</td>\n",
              "      <td>2.1</td>\n",
              "      <td>4.41</td>\n",
              "      <td>17.43</td>\n",
              "    </tr>\n",
              "  </tbody>\n",
              "</table>\n",
              "</div>"
            ],
            "text/plain": [
              "   weight(X)  hair length(Y)  X-X_  (X-X_)^2  Y-Y_  (Y-Y_)^2  (X-X_)*(Y-Y_)\n",
              "0         50               7  -6.7     44.89   0.1      0.01          -0.67\n",
              "1         60               8   3.3     10.89   1.1      1.21           3.63\n",
              "2         60               7   3.3     10.89   0.1      0.01           0.33\n",
              "3         55               6  -1.7      2.89  -0.9      0.81           1.53\n",
              "4         54               6  -2.7      7.29  -0.9      0.81           2.43\n",
              "5         53               7  -3.7     13.69   0.1      0.01          -0.37\n",
              "6         70               8  13.3    176.89   1.1      1.21          14.63\n",
              "7         40               3 -16.7    278.89  -3.9     15.21          65.13\n",
              "8         60               8   3.3     10.89   1.1      1.21           3.63\n",
              "9         65               9   8.3     68.89   2.1      4.41          17.43"
            ]
          },
          "metadata": {
            "tags": []
          },
          "execution_count": 20
        }
      ]
    },
    {
      "cell_type": "code",
      "metadata": {
        "id": "1n-JptIcekt8"
      },
      "source": [
        "n =df_weight1.shape[0]"
      ],
      "execution_count": null,
      "outputs": []
    },
    {
      "cell_type": "code",
      "metadata": {
        "colab": {
          "base_uri": "https://localhost:8080/"
        },
        "id": "PqVtc4gNpgNv",
        "outputId": "feb78551-0613-4c7d-b8cb-494100bba5fc"
      },
      "source": [
        "df_weight1['(X-X_)^2'].sum()"
      ],
      "execution_count": null,
      "outputs": [
        {
          "output_type": "execute_result",
          "data": {
            "text/plain": [
              "626.1"
            ]
          },
          "metadata": {
            "tags": []
          },
          "execution_count": 22
        }
      ]
    },
    {
      "cell_type": "code",
      "metadata": {
        "colab": {
          "base_uri": "https://localhost:8080/"
        },
        "id": "IMFGw_KMryq2",
        "outputId": "a6a03c1c-deb1-4b38-e358-a345b2762ef4"
      },
      "source": [
        "df_weight1['(Y-Y_)^2'].sum()"
      ],
      "execution_count": null,
      "outputs": [
        {
          "output_type": "execute_result",
          "data": {
            "text/plain": [
              "24.9"
            ]
          },
          "metadata": {
            "tags": []
          },
          "execution_count": 23
        }
      ]
    },
    {
      "cell_type": "code",
      "metadata": {
        "colab": {
          "base_uri": "https://localhost:8080/"
        },
        "id": "GW8cdhNWs5A2",
        "outputId": "b8215057-0f0d-442e-a0dd-44d06bea7043"
      },
      "source": [
        "df_weight1['(X-X_)*(Y-Y_)'].sum()"
      ],
      "execution_count": null,
      "outputs": [
        {
          "output_type": "execute_result",
          "data": {
            "text/plain": [
              "107.7"
            ]
          },
          "metadata": {
            "tags": []
          },
          "execution_count": 24
        }
      ]
    },
    {
      "cell_type": "code",
      "metadata": {
        "colab": {
          "base_uri": "https://localhost:8080/"
        },
        "id": "BcirFz8XtHC3",
        "outputId": "5568a47f-00c4-4d93-9616-0bf2e3a7c6bc"
      },
      "source": [
        "df_weight1['(X-X_)^2'].sum()*df_weight1['(Y-Y_)^2'].sum()"
      ],
      "execution_count": null,
      "outputs": [
        {
          "output_type": "execute_result",
          "data": {
            "text/plain": [
              "15589.89"
            ]
          },
          "metadata": {
            "tags": []
          },
          "execution_count": 25
        }
      ]
    },
    {
      "cell_type": "code",
      "metadata": {
        "colab": {
          "base_uri": "https://localhost:8080/"
        },
        "id": "2y-jWVYrtRAn",
        "outputId": "9249ffa7-5850-40e8-ebd4-436c62e86a04"
      },
      "source": [
        "math.sqrt(df_weight1['(X-X_)^2'].sum()*df_weight1['(Y-Y_)^2'].sum())"
      ],
      "execution_count": null,
      "outputs": [
        {
          "output_type": "execute_result",
          "data": {
            "text/plain": [
              "124.8594810176624"
            ]
          },
          "metadata": {
            "tags": []
          },
          "execution_count": 26
        }
      ]
    },
    {
      "cell_type": "code",
      "metadata": {
        "id": "wfn0oX1sta64",
        "colab": {
          "base_uri": "https://localhost:8080/"
        },
        "outputId": "b1a8fab3-89d5-452b-c652-973c986df185"
      },
      "source": [
        "r = (df_weight1['(X-X_)*(Y-Y_)'].sum())/(math.sqrt(df_weight1['(X-X_)^2'].sum()*df_weight1['(Y-Y_)^2'].sum()))\n",
        "print('ค่า R : ',r)"
      ],
      "execution_count": null,
      "outputs": [
        {
          "output_type": "stream",
          "text": [
            "ค่า R :  0.862569659285745\n"
          ],
          "name": "stdout"
        }
      ]
    },
    {
      "cell_type": "markdown",
      "metadata": {
        "id": "gaDciobCetE7"
      },
      "source": [
        "#หา Yhat"
      ]
    },
    {
      "cell_type": "code",
      "metadata": {
        "id": "Xjp_TVakYlTv",
        "colab": {
          "base_uri": "https://localhost:8080/"
        },
        "outputId": "429024dd-bbd5-4ace-eca3-e00cce9adb0b"
      },
      "source": [
        "Sy = math.sqrt(df_weight1['(Y-Y_)^2'].sum()/(n-1))\n",
        "Sx = math.sqrt(df_weight1['(X-X_)^2'].sum()/(n-1))\n",
        "print('ค่า Sy : ',Sy)\n",
        "print('ค่า SX : ',Sx)"
      ],
      "execution_count": null,
      "outputs": [
        {
          "output_type": "stream",
          "text": [
            "ค่า Sy :  1.66332999331662\n",
            "ค่า SX :  8.340663442836346\n"
          ],
          "name": "stdout"
        }
      ]
    },
    {
      "cell_type": "code",
      "metadata": {
        "colab": {
          "base_uri": "https://localhost:8080/"
        },
        "id": "BGG0cTvLZATf",
        "outputId": "5911dd40-3e10-41ab-8c35-af779c4694ca"
      },
      "source": [
        "b = r * (Sy/Sx)\n",
        "print('ค่า B ทีค่าเท่ากับ : ',b)"
      ],
      "execution_count": null,
      "outputs": [
        {
          "output_type": "stream",
          "text": [
            "ค่า B ทีค่าเท่ากับ :  0.17201724964063253\n"
          ],
          "name": "stdout"
        }
      ]
    },
    {
      "cell_type": "code",
      "metadata": {
        "colab": {
          "base_uri": "https://localhost:8080/"
        },
        "id": "kDJ1AIWUZELI",
        "outputId": "3d461904-51bc-4a15-ee7a-5bd8bef8acae"
      },
      "source": [
        "a = Y_mean - (b*X_mean)\n",
        "print('ค่า A ทีค่าเท่ากับ : ',a)"
      ],
      "execution_count": null,
      "outputs": [
        {
          "output_type": "stream",
          "text": [
            "ค่า A ทีค่าเท่ากับ :  -2.853378054623864\n"
          ],
          "name": "stdout"
        }
      ]
    },
    {
      "cell_type": "markdown",
      "metadata": {
        "id": "rMdVlJ-X7-DP"
      },
      "source": [
        "#SSE"
      ]
    },
    {
      "cell_type": "code",
      "metadata": {
        "id": "4AepBiZZ9j_s"
      },
      "source": [
        "df_Y = pd.DataFrame({'hair length(Y)':[7,8,7,6,6,7,8,3,8,9] })\n",
        "df_Y['Yhat']= a + (b*df_weight1['weight(X)'])"
      ],
      "execution_count": null,
      "outputs": []
    },
    {
      "cell_type": "code",
      "metadata": {
        "colab": {
          "base_uri": "https://localhost:8080/",
          "height": 351
        },
        "id": "d_rDg0Qg9q23",
        "outputId": "eca2f341-ed74-40d2-b7ad-6d69eb2c2b2d"
      },
      "source": [
        "df_Y"
      ],
      "execution_count": null,
      "outputs": [
        {
          "output_type": "execute_result",
          "data": {
            "text/html": [
              "<div>\n",
              "<style scoped>\n",
              "    .dataframe tbody tr th:only-of-type {\n",
              "        vertical-align: middle;\n",
              "    }\n",
              "\n",
              "    .dataframe tbody tr th {\n",
              "        vertical-align: top;\n",
              "    }\n",
              "\n",
              "    .dataframe thead th {\n",
              "        text-align: right;\n",
              "    }\n",
              "</style>\n",
              "<table border=\"1\" class=\"dataframe\">\n",
              "  <thead>\n",
              "    <tr style=\"text-align: right;\">\n",
              "      <th></th>\n",
              "      <th>hair length(Y)</th>\n",
              "      <th>Yhat</th>\n",
              "    </tr>\n",
              "  </thead>\n",
              "  <tbody>\n",
              "    <tr>\n",
              "      <th>0</th>\n",
              "      <td>7</td>\n",
              "      <td>5.747484</td>\n",
              "    </tr>\n",
              "    <tr>\n",
              "      <th>1</th>\n",
              "      <td>8</td>\n",
              "      <td>7.467657</td>\n",
              "    </tr>\n",
              "    <tr>\n",
              "      <th>2</th>\n",
              "      <td>7</td>\n",
              "      <td>7.467657</td>\n",
              "    </tr>\n",
              "    <tr>\n",
              "      <th>3</th>\n",
              "      <td>6</td>\n",
              "      <td>6.607571</td>\n",
              "    </tr>\n",
              "    <tr>\n",
              "      <th>4</th>\n",
              "      <td>6</td>\n",
              "      <td>6.435553</td>\n",
              "    </tr>\n",
              "    <tr>\n",
              "      <th>5</th>\n",
              "      <td>7</td>\n",
              "      <td>6.263536</td>\n",
              "    </tr>\n",
              "    <tr>\n",
              "      <th>6</th>\n",
              "      <td>8</td>\n",
              "      <td>9.187829</td>\n",
              "    </tr>\n",
              "    <tr>\n",
              "      <th>7</th>\n",
              "      <td>3</td>\n",
              "      <td>4.027312</td>\n",
              "    </tr>\n",
              "    <tr>\n",
              "      <th>8</th>\n",
              "      <td>8</td>\n",
              "      <td>7.467657</td>\n",
              "    </tr>\n",
              "    <tr>\n",
              "      <th>9</th>\n",
              "      <td>9</td>\n",
              "      <td>8.327743</td>\n",
              "    </tr>\n",
              "  </tbody>\n",
              "</table>\n",
              "</div>"
            ],
            "text/plain": [
              "   hair length(Y)      Yhat\n",
              "0               7  5.747484\n",
              "1               8  7.467657\n",
              "2               7  7.467657\n",
              "3               6  6.607571\n",
              "4               6  6.435553\n",
              "5               7  6.263536\n",
              "6               8  9.187829\n",
              "7               3  4.027312\n",
              "8               8  7.467657\n",
              "9               9  8.327743"
            ]
          },
          "metadata": {
            "tags": []
          },
          "execution_count": 35
        }
      ]
    },
    {
      "cell_type": "code",
      "metadata": {
        "id": "f_ds-FqswRVh"
      },
      "source": [
        "df_SSE=df_Y.copy()"
      ],
      "execution_count": null,
      "outputs": []
    },
    {
      "cell_type": "code",
      "metadata": {
        "id": "sxKJCjjDwFD4"
      },
      "source": [
        "df_SSE['Y-Yhat'] = (df_SSE['hair length(Y)'] - df_SSE['Yhat'])"
      ],
      "execution_count": null,
      "outputs": []
    },
    {
      "cell_type": "code",
      "metadata": {
        "id": "qeFt79_X4JFU"
      },
      "source": [
        "df_SSE['Y-Yhat^2'] = df_SSE['Y-Yhat']**2"
      ],
      "execution_count": null,
      "outputs": []
    },
    {
      "cell_type": "code",
      "metadata": {
        "colab": {
          "base_uri": "https://localhost:8080/",
          "height": 351
        },
        "id": "ol6c9Bbz4MoO",
        "outputId": "8573d87c-86e2-4b77-dff4-1b4b77381bf7"
      },
      "source": [
        "df_SSE"
      ],
      "execution_count": null,
      "outputs": [
        {
          "output_type": "execute_result",
          "data": {
            "text/html": [
              "<div>\n",
              "<style scoped>\n",
              "    .dataframe tbody tr th:only-of-type {\n",
              "        vertical-align: middle;\n",
              "    }\n",
              "\n",
              "    .dataframe tbody tr th {\n",
              "        vertical-align: top;\n",
              "    }\n",
              "\n",
              "    .dataframe thead th {\n",
              "        text-align: right;\n",
              "    }\n",
              "</style>\n",
              "<table border=\"1\" class=\"dataframe\">\n",
              "  <thead>\n",
              "    <tr style=\"text-align: right;\">\n",
              "      <th></th>\n",
              "      <th>hair length(Y)</th>\n",
              "      <th>Yhat</th>\n",
              "      <th>Y-Yhat</th>\n",
              "      <th>Y-Yhat^2</th>\n",
              "    </tr>\n",
              "  </thead>\n",
              "  <tbody>\n",
              "    <tr>\n",
              "      <th>0</th>\n",
              "      <td>7</td>\n",
              "      <td>5.747484</td>\n",
              "      <td>1.252516</td>\n",
              "      <td>1.568795</td>\n",
              "    </tr>\n",
              "    <tr>\n",
              "      <th>1</th>\n",
              "      <td>8</td>\n",
              "      <td>7.467657</td>\n",
              "      <td>0.532343</td>\n",
              "      <td>0.283389</td>\n",
              "    </tr>\n",
              "    <tr>\n",
              "      <th>2</th>\n",
              "      <td>7</td>\n",
              "      <td>7.467657</td>\n",
              "      <td>-0.467657</td>\n",
              "      <td>0.218703</td>\n",
              "    </tr>\n",
              "    <tr>\n",
              "      <th>3</th>\n",
              "      <td>6</td>\n",
              "      <td>6.607571</td>\n",
              "      <td>-0.607571</td>\n",
              "      <td>0.369142</td>\n",
              "    </tr>\n",
              "    <tr>\n",
              "      <th>4</th>\n",
              "      <td>6</td>\n",
              "      <td>6.435553</td>\n",
              "      <td>-0.435553</td>\n",
              "      <td>0.189707</td>\n",
              "    </tr>\n",
              "    <tr>\n",
              "      <th>5</th>\n",
              "      <td>7</td>\n",
              "      <td>6.263536</td>\n",
              "      <td>0.736464</td>\n",
              "      <td>0.542379</td>\n",
              "    </tr>\n",
              "    <tr>\n",
              "      <th>6</th>\n",
              "      <td>8</td>\n",
              "      <td>9.187829</td>\n",
              "      <td>-1.187829</td>\n",
              "      <td>1.410939</td>\n",
              "    </tr>\n",
              "    <tr>\n",
              "      <th>7</th>\n",
              "      <td>3</td>\n",
              "      <td>4.027312</td>\n",
              "      <td>-1.027312</td>\n",
              "      <td>1.055370</td>\n",
              "    </tr>\n",
              "    <tr>\n",
              "      <th>8</th>\n",
              "      <td>8</td>\n",
              "      <td>7.467657</td>\n",
              "      <td>0.532343</td>\n",
              "      <td>0.283389</td>\n",
              "    </tr>\n",
              "    <tr>\n",
              "      <th>9</th>\n",
              "      <td>9</td>\n",
              "      <td>8.327743</td>\n",
              "      <td>0.672257</td>\n",
              "      <td>0.451929</td>\n",
              "    </tr>\n",
              "  </tbody>\n",
              "</table>\n",
              "</div>"
            ],
            "text/plain": [
              "   hair length(Y)      Yhat    Y-Yhat  Y-Yhat^2\n",
              "0               7  5.747484  1.252516  1.568795\n",
              "1               8  7.467657  0.532343  0.283389\n",
              "2               7  7.467657 -0.467657  0.218703\n",
              "3               6  6.607571 -0.607571  0.369142\n",
              "4               6  6.435553 -0.435553  0.189707\n",
              "5               7  6.263536  0.736464  0.542379\n",
              "6               8  9.187829 -1.187829  1.410939\n",
              "7               3  4.027312 -1.027312  1.055370\n",
              "8               8  7.467657  0.532343  0.283389\n",
              "9               9  8.327743  0.672257  0.451929"
            ]
          },
          "metadata": {
            "tags": []
          },
          "execution_count": 39
        }
      ]
    },
    {
      "cell_type": "code",
      "metadata": {
        "colab": {
          "base_uri": "https://localhost:8080/"
        },
        "id": "SJGyYWtn4auC",
        "outputId": "00157a53-1810-46b0-c24a-4e6bfb9060e6"
      },
      "source": [
        "sse = df_SSE['Y-Yhat^2'].sum()\n",
        "print('Sum Squared Error : %.2f'%sse)"
      ],
      "execution_count": null,
      "outputs": [
        {
          "output_type": "stream",
          "text": [
            "Sum Squared Error : 6.37\n"
          ],
          "name": "stdout"
        }
      ]
    },
    {
      "cell_type": "markdown",
      "metadata": {
        "id": "5WEmmIeWe_2s"
      },
      "source": [
        "#MSE "
      ]
    },
    {
      "cell_type": "code",
      "metadata": {
        "colab": {
          "base_uri": "https://localhost:8080/"
        },
        "id": "uZZOpycH5Gtg",
        "outputId": "7eb8a1c8-1649-45bc-f9ab-f1642d511672"
      },
      "source": [
        "MSE=sse / n\n",
        "print('Mean Squared Error : %.2f'%MSE)"
      ],
      "execution_count": null,
      "outputs": [
        {
          "output_type": "stream",
          "text": [
            "Mean Squared Error : 0.64\n"
          ],
          "name": "stdout"
        }
      ]
    },
    {
      "cell_type": "markdown",
      "metadata": {
        "id": "xctlKixi9IwV"
      },
      "source": [
        "#MAE"
      ]
    },
    {
      "cell_type": "code",
      "metadata": {
        "id": "ar2DRwYq8bOi"
      },
      "source": [
        "df_MAE =df_Y.copy()"
      ],
      "execution_count": null,
      "outputs": []
    },
    {
      "cell_type": "code",
      "metadata": {
        "id": "zH_lDlDW95fQ"
      },
      "source": [
        "df_MAE['Y-Yhat'] = (df_MAE['hair length(Y)'] - df_MAE['Yhat'])"
      ],
      "execution_count": null,
      "outputs": []
    },
    {
      "cell_type": "code",
      "metadata": {
        "id": "KEymQpJd9_b4"
      },
      "source": [
        "df_MAE['|Y-Yhat|']= abs(df_MAE['Y-Yhat'])"
      ],
      "execution_count": null,
      "outputs": []
    },
    {
      "cell_type": "code",
      "metadata": {
        "colab": {
          "base_uri": "https://localhost:8080/",
          "height": 351
        },
        "id": "qJCE5VHD-Q_J",
        "outputId": "2ed98af8-e4e1-49a6-c936-12a60214db41"
      },
      "source": [
        "df_MAE"
      ],
      "execution_count": null,
      "outputs": [
        {
          "output_type": "execute_result",
          "data": {
            "text/html": [
              "<div>\n",
              "<style scoped>\n",
              "    .dataframe tbody tr th:only-of-type {\n",
              "        vertical-align: middle;\n",
              "    }\n",
              "\n",
              "    .dataframe tbody tr th {\n",
              "        vertical-align: top;\n",
              "    }\n",
              "\n",
              "    .dataframe thead th {\n",
              "        text-align: right;\n",
              "    }\n",
              "</style>\n",
              "<table border=\"1\" class=\"dataframe\">\n",
              "  <thead>\n",
              "    <tr style=\"text-align: right;\">\n",
              "      <th></th>\n",
              "      <th>hair length(Y)</th>\n",
              "      <th>Yhat</th>\n",
              "      <th>Y-Yhat</th>\n",
              "      <th>|Y-Yhat|</th>\n",
              "    </tr>\n",
              "  </thead>\n",
              "  <tbody>\n",
              "    <tr>\n",
              "      <th>0</th>\n",
              "      <td>7</td>\n",
              "      <td>5.747484</td>\n",
              "      <td>1.252516</td>\n",
              "      <td>1.252516</td>\n",
              "    </tr>\n",
              "    <tr>\n",
              "      <th>1</th>\n",
              "      <td>8</td>\n",
              "      <td>7.467657</td>\n",
              "      <td>0.532343</td>\n",
              "      <td>0.532343</td>\n",
              "    </tr>\n",
              "    <tr>\n",
              "      <th>2</th>\n",
              "      <td>7</td>\n",
              "      <td>7.467657</td>\n",
              "      <td>-0.467657</td>\n",
              "      <td>0.467657</td>\n",
              "    </tr>\n",
              "    <tr>\n",
              "      <th>3</th>\n",
              "      <td>6</td>\n",
              "      <td>6.607571</td>\n",
              "      <td>-0.607571</td>\n",
              "      <td>0.607571</td>\n",
              "    </tr>\n",
              "    <tr>\n",
              "      <th>4</th>\n",
              "      <td>6</td>\n",
              "      <td>6.435553</td>\n",
              "      <td>-0.435553</td>\n",
              "      <td>0.435553</td>\n",
              "    </tr>\n",
              "    <tr>\n",
              "      <th>5</th>\n",
              "      <td>7</td>\n",
              "      <td>6.263536</td>\n",
              "      <td>0.736464</td>\n",
              "      <td>0.736464</td>\n",
              "    </tr>\n",
              "    <tr>\n",
              "      <th>6</th>\n",
              "      <td>8</td>\n",
              "      <td>9.187829</td>\n",
              "      <td>-1.187829</td>\n",
              "      <td>1.187829</td>\n",
              "    </tr>\n",
              "    <tr>\n",
              "      <th>7</th>\n",
              "      <td>3</td>\n",
              "      <td>4.027312</td>\n",
              "      <td>-1.027312</td>\n",
              "      <td>1.027312</td>\n",
              "    </tr>\n",
              "    <tr>\n",
              "      <th>8</th>\n",
              "      <td>8</td>\n",
              "      <td>7.467657</td>\n",
              "      <td>0.532343</td>\n",
              "      <td>0.532343</td>\n",
              "    </tr>\n",
              "    <tr>\n",
              "      <th>9</th>\n",
              "      <td>9</td>\n",
              "      <td>8.327743</td>\n",
              "      <td>0.672257</td>\n",
              "      <td>0.672257</td>\n",
              "    </tr>\n",
              "  </tbody>\n",
              "</table>\n",
              "</div>"
            ],
            "text/plain": [
              "   hair length(Y)      Yhat    Y-Yhat  |Y-Yhat|\n",
              "0               7  5.747484  1.252516  1.252516\n",
              "1               8  7.467657  0.532343  0.532343\n",
              "2               7  7.467657 -0.467657  0.467657\n",
              "3               6  6.607571 -0.607571  0.607571\n",
              "4               6  6.435553 -0.435553  0.435553\n",
              "5               7  6.263536  0.736464  0.736464\n",
              "6               8  9.187829 -1.187829  1.187829\n",
              "7               3  4.027312 -1.027312  1.027312\n",
              "8               8  7.467657  0.532343  0.532343\n",
              "9               9  8.327743  0.672257  0.672257"
            ]
          },
          "metadata": {
            "tags": []
          },
          "execution_count": 48
        }
      ]
    },
    {
      "cell_type": "code",
      "metadata": {
        "colab": {
          "base_uri": "https://localhost:8080/"
        },
        "id": "T5qX6cBLOkYH",
        "outputId": "5c63e20c-12bf-44b3-cd58-c93b0369d8e4"
      },
      "source": [
        "df_MAE['|Y-Yhat|'].sum()"
      ],
      "execution_count": null,
      "outputs": [
        {
          "output_type": "execute_result",
          "data": {
            "text/plain": [
              "7.451844753234306"
            ]
          },
          "metadata": {
            "tags": []
          },
          "execution_count": 50
        }
      ]
    },
    {
      "cell_type": "code",
      "metadata": {
        "colab": {
          "base_uri": "https://localhost:8080/"
        },
        "id": "_Vs5Xtuv-X75",
        "outputId": "d9a4c9d5-dd92-4e9d-f886-23f65963dade"
      },
      "source": [
        "MAE=df_MAE['|Y-Yhat|'].sum()\n",
        "resultMAE=MAE / n\n",
        "print('Mean Absolute Error : %.2f'%resultMAE)"
      ],
      "execution_count": null,
      "outputs": [
        {
          "output_type": "stream",
          "text": [
            "Mean Absolute Error : 0.75\n"
          ],
          "name": "stdout"
        }
      ]
    },
    {
      "cell_type": "markdown",
      "metadata": {
        "id": "pK0ALFdd-_oc"
      },
      "source": [
        "#MAPE"
      ]
    },
    {
      "cell_type": "code",
      "metadata": {
        "id": "1YtaaJXp-kk4"
      },
      "source": [
        "df_MAPE = df_Y.copy()"
      ],
      "execution_count": null,
      "outputs": []
    },
    {
      "cell_type": "code",
      "metadata": {
        "id": "gXDFJmwi_gNF"
      },
      "source": [
        "df_MAPE['Y-Yhat'] = (df_MAPE['hair length(Y)'] - df_MAPE['Yhat'])"
      ],
      "execution_count": null,
      "outputs": []
    },
    {
      "cell_type": "code",
      "metadata": {
        "id": "bb71w8QE_R3Z"
      },
      "source": [
        "df_MAPE['Y-Yhat/Y'] = df_MAPE['Y-Yhat']/df_MAPE['hair length(Y)']"
      ],
      "execution_count": null,
      "outputs": []
    },
    {
      "cell_type": "code",
      "metadata": {
        "id": "QT6dU2Nr_vYZ"
      },
      "source": [
        "df_MAPE['|Y-Yhat/Y|'] = abs(df_MAPE['Y-Yhat/Y'])"
      ],
      "execution_count": null,
      "outputs": []
    },
    {
      "cell_type": "code",
      "metadata": {
        "colab": {
          "base_uri": "https://localhost:8080/",
          "height": 351
        },
        "id": "69kZ8K5G_0co",
        "outputId": "cb7ac77b-50da-44f5-dc22-0e1502bdb90e"
      },
      "source": [
        "df_MAPE"
      ],
      "execution_count": null,
      "outputs": [
        {
          "output_type": "execute_result",
          "data": {
            "text/html": [
              "<div>\n",
              "<style scoped>\n",
              "    .dataframe tbody tr th:only-of-type {\n",
              "        vertical-align: middle;\n",
              "    }\n",
              "\n",
              "    .dataframe tbody tr th {\n",
              "        vertical-align: top;\n",
              "    }\n",
              "\n",
              "    .dataframe thead th {\n",
              "        text-align: right;\n",
              "    }\n",
              "</style>\n",
              "<table border=\"1\" class=\"dataframe\">\n",
              "  <thead>\n",
              "    <tr style=\"text-align: right;\">\n",
              "      <th></th>\n",
              "      <th>hair length(Y)</th>\n",
              "      <th>Yhat</th>\n",
              "      <th>Y-Yhat</th>\n",
              "      <th>Y-Yhat/Y</th>\n",
              "      <th>|Y-Yhat/Y|</th>\n",
              "    </tr>\n",
              "  </thead>\n",
              "  <tbody>\n",
              "    <tr>\n",
              "      <th>0</th>\n",
              "      <td>7</td>\n",
              "      <td>5.747484</td>\n",
              "      <td>1.252516</td>\n",
              "      <td>0.178931</td>\n",
              "      <td>0.178931</td>\n",
              "    </tr>\n",
              "    <tr>\n",
              "      <th>1</th>\n",
              "      <td>8</td>\n",
              "      <td>7.467657</td>\n",
              "      <td>0.532343</td>\n",
              "      <td>0.066543</td>\n",
              "      <td>0.066543</td>\n",
              "    </tr>\n",
              "    <tr>\n",
              "      <th>2</th>\n",
              "      <td>7</td>\n",
              "      <td>7.467657</td>\n",
              "      <td>-0.467657</td>\n",
              "      <td>-0.066808</td>\n",
              "      <td>0.066808</td>\n",
              "    </tr>\n",
              "    <tr>\n",
              "      <th>3</th>\n",
              "      <td>6</td>\n",
              "      <td>6.607571</td>\n",
              "      <td>-0.607571</td>\n",
              "      <td>-0.101262</td>\n",
              "      <td>0.101262</td>\n",
              "    </tr>\n",
              "    <tr>\n",
              "      <th>4</th>\n",
              "      <td>6</td>\n",
              "      <td>6.435553</td>\n",
              "      <td>-0.435553</td>\n",
              "      <td>-0.072592</td>\n",
              "      <td>0.072592</td>\n",
              "    </tr>\n",
              "    <tr>\n",
              "      <th>5</th>\n",
              "      <td>7</td>\n",
              "      <td>6.263536</td>\n",
              "      <td>0.736464</td>\n",
              "      <td>0.105209</td>\n",
              "      <td>0.105209</td>\n",
              "    </tr>\n",
              "    <tr>\n",
              "      <th>6</th>\n",
              "      <td>8</td>\n",
              "      <td>9.187829</td>\n",
              "      <td>-1.187829</td>\n",
              "      <td>-0.148479</td>\n",
              "      <td>0.148479</td>\n",
              "    </tr>\n",
              "    <tr>\n",
              "      <th>7</th>\n",
              "      <td>3</td>\n",
              "      <td>4.027312</td>\n",
              "      <td>-1.027312</td>\n",
              "      <td>-0.342437</td>\n",
              "      <td>0.342437</td>\n",
              "    </tr>\n",
              "    <tr>\n",
              "      <th>8</th>\n",
              "      <td>8</td>\n",
              "      <td>7.467657</td>\n",
              "      <td>0.532343</td>\n",
              "      <td>0.066543</td>\n",
              "      <td>0.066543</td>\n",
              "    </tr>\n",
              "    <tr>\n",
              "      <th>9</th>\n",
              "      <td>9</td>\n",
              "      <td>8.327743</td>\n",
              "      <td>0.672257</td>\n",
              "      <td>0.074695</td>\n",
              "      <td>0.074695</td>\n",
              "    </tr>\n",
              "  </tbody>\n",
              "</table>\n",
              "</div>"
            ],
            "text/plain": [
              "   hair length(Y)      Yhat    Y-Yhat  Y-Yhat/Y  |Y-Yhat/Y|\n",
              "0               7  5.747484  1.252516  0.178931    0.178931\n",
              "1               8  7.467657  0.532343  0.066543    0.066543\n",
              "2               7  7.467657 -0.467657 -0.066808    0.066808\n",
              "3               6  6.607571 -0.607571 -0.101262    0.101262\n",
              "4               6  6.435553 -0.435553 -0.072592    0.072592\n",
              "5               7  6.263536  0.736464  0.105209    0.105209\n",
              "6               8  9.187829 -1.187829 -0.148479    0.148479\n",
              "7               3  4.027312 -1.027312 -0.342437    0.342437\n",
              "8               8  7.467657  0.532343  0.066543    0.066543\n",
              "9               9  8.327743  0.672257  0.074695    0.074695"
            ]
          },
          "metadata": {
            "tags": []
          },
          "execution_count": 56
        }
      ]
    },
    {
      "cell_type": "code",
      "metadata": {
        "colab": {
          "base_uri": "https://localhost:8080/"
        },
        "id": "L1PKNGgTO06S",
        "outputId": "81ef3e9a-03e4-45c9-b65d-881840e6c438"
      },
      "source": [
        "df_MAPE['Y-Yhat/Y'].sum()"
      ],
      "execution_count": null,
      "outputs": [
        {
          "output_type": "execute_result",
          "data": {
            "text/plain": [
              "-0.23965725085753892"
            ]
          },
          "metadata": {
            "tags": []
          },
          "execution_count": 57
        }
      ]
    },
    {
      "cell_type": "code",
      "metadata": {
        "colab": {
          "base_uri": "https://localhost:8080/"
        },
        "id": "jx0IAPTLOqx6",
        "outputId": "bd7fcb12-8af0-4647-fc00-e60f89b8f68d"
      },
      "source": [
        "df_MAPE['|Y-Yhat/Y|'].sum()"
      ],
      "execution_count": null,
      "outputs": [
        {
          "output_type": "execute_result",
          "data": {
            "text/plain": [
              "1.2234990226724773"
            ]
          },
          "metadata": {
            "tags": []
          },
          "execution_count": 58
        }
      ]
    },
    {
      "cell_type": "code",
      "metadata": {
        "id": "j9AJWVZ-_1vd",
        "colab": {
          "base_uri": "https://localhost:8080/"
        },
        "outputId": "e2e67a4d-e46e-4773-b7c9-9f03cdc44dae"
      },
      "source": [
        "MAPE = df_MAPE['|Y-Yhat/Y|'].sum()\n",
        "resultMAPE = (100/n) * (MAPE) \n",
        "print('Mean Absolute Percentage Error : %.2f'%resultMAPE)"
      ],
      "execution_count": null,
      "outputs": [
        {
          "output_type": "stream",
          "text": [
            "Mean Absolute Percentage Error : 12.23\n"
          ],
          "name": "stdout"
        }
      ]
    }
  ]
}