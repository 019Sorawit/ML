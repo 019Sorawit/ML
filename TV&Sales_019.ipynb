{
  "nbformat": 4,
  "nbformat_minor": 0,
  "metadata": {
    "colab": {
      "name": "TV&Sales-019.ipynb",
      "provenance": [],
      "collapsed_sections": [],
      "authorship_tag": "ABX9TyP7NbKEDj8TlR015beGibEB",
      "include_colab_link": true
    },
    "kernelspec": {
      "name": "python3",
      "display_name": "Python 3"
    },
    "language_info": {
      "name": "python"
    }
  },
  "cells": [
    {
      "cell_type": "markdown",
      "metadata": {
        "id": "view-in-github",
        "colab_type": "text"
      },
      "source": [
        "<a href=\"https://colab.research.google.com/github/019Sorawit/ML/blob/main/TV%26Sales_019.ipynb\" target=\"_parent\"><img src=\"https://colab.research.google.com/assets/colab-badge.svg\" alt=\"Open In Colab\"/></a>"
      ]
    },
    {
      "cell_type": "code",
      "metadata": {
        "id": "eosk8piCkvQy"
      },
      "source": [
        "import pandas as pd\n",
        "import numpy as np\n",
        "import seaborn as sns\n",
        "import math\n",
        "import matplotlib.pyplot as plt\n",
        "%matplotlib inline\n",
        "\n",
        "from sklearn import linear_model\n",
        "from sklearn.model_selection import train_test_split\n",
        "from sklearn import metrics"
      ],
      "execution_count": null,
      "outputs": []
    },
    {
      "cell_type": "code",
      "metadata": {
        "id": "CMh9KNGLkwlP"
      },
      "source": [
        "df_TV=pd.DataFrame({'TV(X)':[230.1,44.5,17.2,151.5,180.8,8.7,57.5,120.2,8.6,199.8],\n",
        "                 'Sales(Y)':[22.1,10.4,12,16.5,17.9,7.2,11.8,13.2,4.8,15.6]})"
      ],
      "execution_count": null,
      "outputs": []
    },
    {
      "cell_type": "code",
      "metadata": {
        "id": "vUM8a023kz3G"
      },
      "source": [
        "df_TV['X2'] =df_TV['TV(X)']**2\n",
        "df_TV['XY'] =df_TV['TV(X)']*df_TV['Sales(Y)']"
      ],
      "execution_count": null,
      "outputs": []
    },
    {
      "cell_type": "code",
      "metadata": {
        "colab": {
          "base_uri": "https://localhost:8080/",
          "height": 351
        },
        "id": "6KaYym3Kk3D7",
        "outputId": "b58a9987-2892-4d83-e61f-82604f7310e2"
      },
      "source": [
        "df_TV"
      ],
      "execution_count": null,
      "outputs": [
        {
          "output_type": "execute_result",
          "data": {
            "text/html": [
              "<div>\n",
              "<style scoped>\n",
              "    .dataframe tbody tr th:only-of-type {\n",
              "        vertical-align: middle;\n",
              "    }\n",
              "\n",
              "    .dataframe tbody tr th {\n",
              "        vertical-align: top;\n",
              "    }\n",
              "\n",
              "    .dataframe thead th {\n",
              "        text-align: right;\n",
              "    }\n",
              "</style>\n",
              "<table border=\"1\" class=\"dataframe\">\n",
              "  <thead>\n",
              "    <tr style=\"text-align: right;\">\n",
              "      <th></th>\n",
              "      <th>TV(X)</th>\n",
              "      <th>Sales(Y)</th>\n",
              "      <th>X2</th>\n",
              "      <th>XY</th>\n",
              "    </tr>\n",
              "  </thead>\n",
              "  <tbody>\n",
              "    <tr>\n",
              "      <th>0</th>\n",
              "      <td>230.1</td>\n",
              "      <td>22.1</td>\n",
              "      <td>52946.01</td>\n",
              "      <td>5085.21</td>\n",
              "    </tr>\n",
              "    <tr>\n",
              "      <th>1</th>\n",
              "      <td>44.5</td>\n",
              "      <td>10.4</td>\n",
              "      <td>1980.25</td>\n",
              "      <td>462.80</td>\n",
              "    </tr>\n",
              "    <tr>\n",
              "      <th>2</th>\n",
              "      <td>17.2</td>\n",
              "      <td>12.0</td>\n",
              "      <td>295.84</td>\n",
              "      <td>206.40</td>\n",
              "    </tr>\n",
              "    <tr>\n",
              "      <th>3</th>\n",
              "      <td>151.5</td>\n",
              "      <td>16.5</td>\n",
              "      <td>22952.25</td>\n",
              "      <td>2499.75</td>\n",
              "    </tr>\n",
              "    <tr>\n",
              "      <th>4</th>\n",
              "      <td>180.8</td>\n",
              "      <td>17.9</td>\n",
              "      <td>32688.64</td>\n",
              "      <td>3236.32</td>\n",
              "    </tr>\n",
              "    <tr>\n",
              "      <th>5</th>\n",
              "      <td>8.7</td>\n",
              "      <td>7.2</td>\n",
              "      <td>75.69</td>\n",
              "      <td>62.64</td>\n",
              "    </tr>\n",
              "    <tr>\n",
              "      <th>6</th>\n",
              "      <td>57.5</td>\n",
              "      <td>11.8</td>\n",
              "      <td>3306.25</td>\n",
              "      <td>678.50</td>\n",
              "    </tr>\n",
              "    <tr>\n",
              "      <th>7</th>\n",
              "      <td>120.2</td>\n",
              "      <td>13.2</td>\n",
              "      <td>14448.04</td>\n",
              "      <td>1586.64</td>\n",
              "    </tr>\n",
              "    <tr>\n",
              "      <th>8</th>\n",
              "      <td>8.6</td>\n",
              "      <td>4.8</td>\n",
              "      <td>73.96</td>\n",
              "      <td>41.28</td>\n",
              "    </tr>\n",
              "    <tr>\n",
              "      <th>9</th>\n",
              "      <td>199.8</td>\n",
              "      <td>15.6</td>\n",
              "      <td>39920.04</td>\n",
              "      <td>3116.88</td>\n",
              "    </tr>\n",
              "  </tbody>\n",
              "</table>\n",
              "</div>"
            ],
            "text/plain": [
              "   TV(X)  Sales(Y)        X2       XY\n",
              "0  230.1      22.1  52946.01  5085.21\n",
              "1   44.5      10.4   1980.25   462.80\n",
              "2   17.2      12.0    295.84   206.40\n",
              "3  151.5      16.5  22952.25  2499.75\n",
              "4  180.8      17.9  32688.64  3236.32\n",
              "5    8.7       7.2     75.69    62.64\n",
              "6   57.5      11.8   3306.25   678.50\n",
              "7  120.2      13.2  14448.04  1586.64\n",
              "8    8.6       4.8     73.96    41.28\n",
              "9  199.8      15.6  39920.04  3116.88"
            ]
          },
          "metadata": {
            "tags": []
          },
          "execution_count": 103
        }
      ]
    },
    {
      "cell_type": "code",
      "metadata": {
        "colab": {
          "base_uri": "https://localhost:8080/"
        },
        "id": "_QXiUgADlMb-",
        "outputId": "873287c9-7813-44c8-eaf4-7c8b729e408c"
      },
      "source": [
        "print('Sum :TV(X)=',df_TV['TV(X)'].sum())\n",
        "print('Sum :Sales(Y)\t=',df_TV['Sales(Y)'].sum())"
      ],
      "execution_count": null,
      "outputs": [
        {
          "output_type": "stream",
          "text": [
            "Sum :TV(X)= 1018.9000000000001\n",
            "Sum :Sales(Y)\t= 131.5\n"
          ],
          "name": "stdout"
        }
      ]
    },
    {
      "cell_type": "code",
      "metadata": {
        "colab": {
          "base_uri": "https://localhost:8080/"
        },
        "id": "JhhVp0bHlVtm",
        "outputId": "963ceec7-0728-45b8-9324-2c79bf432d87"
      },
      "source": [
        "X_mean = df_TV['TV(X)'].mean()\n",
        "print('ค่าเฉลี่ยของ X : ',X_mean) \n",
        "Y_mean = df_TV['Sales(Y)'].mean()\n",
        "print('ค่าเฉลี่ยของ Y : ',Y_mean) "
      ],
      "execution_count": null,
      "outputs": [
        {
          "output_type": "stream",
          "text": [
            "ค่าเฉลี่ยของ X :  101.89000000000001\n",
            "ค่าเฉลี่ยของ Y :  13.15\n"
          ],
          "name": "stdout"
        }
      ]
    },
    {
      "cell_type": "code",
      "metadata": {
        "colab": {
          "base_uri": "https://localhost:8080/"
        },
        "id": "YnmJCdmqmtk6",
        "outputId": "25d2f7bc-682f-4c25-eef6-2400fc827df3"
      },
      "source": [
        "print('ผลรวมของ X2 : ',df_TV['X2'].sum()) \n",
        "print('ผลรวมของ XY : ',df_TV['XY'].sum()) "
      ],
      "execution_count": null,
      "outputs": [
        {
          "output_type": "stream",
          "text": [
            "ผลรวมของ X2 :  168686.97000000003\n",
            "ผลรวมของ XY :  16976.420000000002\n"
          ],
          "name": "stdout"
        }
      ]
    },
    {
      "cell_type": "code",
      "metadata": {
        "colab": {
          "base_uri": "https://localhost:8080/"
        },
        "id": "119XT7aYm0g8",
        "outputId": "a4eb3f64-a96c-45b2-f160-a0209f5afc2e"
      },
      "source": [
        "meanX_2 = df_TV['TV(X)'].mean()**2\n",
        "print('ค่าเฉลี่ยของ X_2 : ',meanX_2)\n",
        "meanX2_ = df_TV['X2'].mean()\n",
        "print('ค่าเฉลี่ยของ X2_ : ',meanX2_)\n",
        "meanXY_ = df_TV['XY'].mean()\n",
        "print('ค่าเฉลี่ยของ XY  : ',meanXY_)"
      ],
      "execution_count": null,
      "outputs": [
        {
          "output_type": "stream",
          "text": [
            "ค่าเฉลี่ยของ X_2 :  10381.572100000003\n",
            "ค่าเฉลี่ยของ X2_ :  16868.697000000004\n",
            "ค่าเฉลี่ยของ XY  :  1697.6419999999998\n"
          ],
          "name": "stdout"
        }
      ]
    },
    {
      "cell_type": "code",
      "metadata": {
        "colab": {
          "base_uri": "https://localhost:8080/"
        },
        "id": "faDgFLOhm7BM",
        "outputId": "80409230-d132-4fb1-f02a-7416b00923a6"
      },
      "source": [
        "suma = (meanXY_-(X_mean*Y_mean))/(meanX2_-meanX_2)\n",
        "print('ค่า A : ',suma)\n",
        "sumb = ((meanX2_*Y_mean)-(meanXY_*X_mean))/(meanX2_-meanX_2)\n",
        "print('ค่า B : ',sumb)"
      ],
      "execution_count": null,
      "outputs": [
        {
          "output_type": "stream",
          "text": [
            "ค่า A :  0.055153632081293764\n",
            "ค่า B :  7.530396427236979\n"
          ],
          "name": "stdout"
        }
      ]
    },
    {
      "cell_type": "markdown",
      "metadata": {
        "id": "W2pVmfJmnH-j"
      },
      "source": [
        "#ตารางหา R"
      ]
    },
    {
      "cell_type": "code",
      "metadata": {
        "id": "-s2bEnqvm_rs"
      },
      "source": [
        "df_TV1=pd.DataFrame({'TV(X)':[230.1,44.5,17.2,151.5,180.8,8.7,57.5,120.2,8.6,199.8],\n",
        "                 'Sales(Y)':[22.1,10.4,12,16.5,17.9,7.2,11.8,13.2,4.8,15.6]})"
      ],
      "execution_count": null,
      "outputs": []
    },
    {
      "cell_type": "code",
      "metadata": {
        "id": "5uGV1oRMnOKZ"
      },
      "source": [
        "df_TV1['X-X_'] = df_TV1['TV(X)']-(df_TV1['TV(X)'].mean())\n",
        "df_TV1['(X-X_)^2'] = (df_TV1['TV(X)']-(df_TV1['TV(X)'].mean()))**2\n",
        "df_TV1['Y-Y_'] = df_TV1['Sales(Y)']-(df_TV1['Sales(Y)'].mean()) \n",
        "df_TV1['(Y-Y_)^2'] = (df_TV1['Sales(Y)']-(df_TV1['Sales(Y)'].mean()))**2"
      ],
      "execution_count": null,
      "outputs": []
    },
    {
      "cell_type": "code",
      "metadata": {
        "id": "iy6h9aoknTx0"
      },
      "source": [
        "df_TV1['(X-X_)*(Y-Y_)']= df_TV1['X-X_']*df_TV1['Y-Y_']"
      ],
      "execution_count": null,
      "outputs": []
    },
    {
      "cell_type": "code",
      "metadata": {
        "colab": {
          "base_uri": "https://localhost:8080/",
          "height": 351
        },
        "id": "vIdKygxenV9u",
        "outputId": "1c4cb072-c7c6-4750-f2ed-cb6e6b825b14"
      },
      "source": [
        "df_TV1"
      ],
      "execution_count": null,
      "outputs": [
        {
          "output_type": "execute_result",
          "data": {
            "text/html": [
              "<div>\n",
              "<style scoped>\n",
              "    .dataframe tbody tr th:only-of-type {\n",
              "        vertical-align: middle;\n",
              "    }\n",
              "\n",
              "    .dataframe tbody tr th {\n",
              "        vertical-align: top;\n",
              "    }\n",
              "\n",
              "    .dataframe thead th {\n",
              "        text-align: right;\n",
              "    }\n",
              "</style>\n",
              "<table border=\"1\" class=\"dataframe\">\n",
              "  <thead>\n",
              "    <tr style=\"text-align: right;\">\n",
              "      <th></th>\n",
              "      <th>TV(X)</th>\n",
              "      <th>Sales(Y)</th>\n",
              "      <th>X-X_</th>\n",
              "      <th>(X-X_)^2</th>\n",
              "      <th>Y-Y_</th>\n",
              "      <th>(Y-Y_)^2</th>\n",
              "      <th>(X-X_)*(Y-Y_)</th>\n",
              "    </tr>\n",
              "  </thead>\n",
              "  <tbody>\n",
              "    <tr>\n",
              "      <th>0</th>\n",
              "      <td>230.1</td>\n",
              "      <td>22.1</td>\n",
              "      <td>128.21</td>\n",
              "      <td>16437.8041</td>\n",
              "      <td>8.95</td>\n",
              "      <td>80.1025</td>\n",
              "      <td>1147.4795</td>\n",
              "    </tr>\n",
              "    <tr>\n",
              "      <th>1</th>\n",
              "      <td>44.5</td>\n",
              "      <td>10.4</td>\n",
              "      <td>-57.39</td>\n",
              "      <td>3293.6121</td>\n",
              "      <td>-2.75</td>\n",
              "      <td>7.5625</td>\n",
              "      <td>157.8225</td>\n",
              "    </tr>\n",
              "    <tr>\n",
              "      <th>2</th>\n",
              "      <td>17.2</td>\n",
              "      <td>12.0</td>\n",
              "      <td>-84.69</td>\n",
              "      <td>7172.3961</td>\n",
              "      <td>-1.15</td>\n",
              "      <td>1.3225</td>\n",
              "      <td>97.3935</td>\n",
              "    </tr>\n",
              "    <tr>\n",
              "      <th>3</th>\n",
              "      <td>151.5</td>\n",
              "      <td>16.5</td>\n",
              "      <td>49.61</td>\n",
              "      <td>2461.1521</td>\n",
              "      <td>3.35</td>\n",
              "      <td>11.2225</td>\n",
              "      <td>166.1935</td>\n",
              "    </tr>\n",
              "    <tr>\n",
              "      <th>4</th>\n",
              "      <td>180.8</td>\n",
              "      <td>17.9</td>\n",
              "      <td>78.91</td>\n",
              "      <td>6226.7881</td>\n",
              "      <td>4.75</td>\n",
              "      <td>22.5625</td>\n",
              "      <td>374.8225</td>\n",
              "    </tr>\n",
              "    <tr>\n",
              "      <th>5</th>\n",
              "      <td>8.7</td>\n",
              "      <td>7.2</td>\n",
              "      <td>-93.19</td>\n",
              "      <td>8684.3761</td>\n",
              "      <td>-5.95</td>\n",
              "      <td>35.4025</td>\n",
              "      <td>554.4805</td>\n",
              "    </tr>\n",
              "    <tr>\n",
              "      <th>6</th>\n",
              "      <td>57.5</td>\n",
              "      <td>11.8</td>\n",
              "      <td>-44.39</td>\n",
              "      <td>1970.4721</td>\n",
              "      <td>-1.35</td>\n",
              "      <td>1.8225</td>\n",
              "      <td>59.9265</td>\n",
              "    </tr>\n",
              "    <tr>\n",
              "      <th>7</th>\n",
              "      <td>120.2</td>\n",
              "      <td>13.2</td>\n",
              "      <td>18.31</td>\n",
              "      <td>335.2561</td>\n",
              "      <td>0.05</td>\n",
              "      <td>0.0025</td>\n",
              "      <td>0.9155</td>\n",
              "    </tr>\n",
              "    <tr>\n",
              "      <th>8</th>\n",
              "      <td>8.6</td>\n",
              "      <td>4.8</td>\n",
              "      <td>-93.29</td>\n",
              "      <td>8703.0241</td>\n",
              "      <td>-8.35</td>\n",
              "      <td>69.7225</td>\n",
              "      <td>778.9715</td>\n",
              "    </tr>\n",
              "    <tr>\n",
              "      <th>9</th>\n",
              "      <td>199.8</td>\n",
              "      <td>15.6</td>\n",
              "      <td>97.91</td>\n",
              "      <td>9586.3681</td>\n",
              "      <td>2.45</td>\n",
              "      <td>6.0025</td>\n",
              "      <td>239.8795</td>\n",
              "    </tr>\n",
              "  </tbody>\n",
              "</table>\n",
              "</div>"
            ],
            "text/plain": [
              "   TV(X)  Sales(Y)    X-X_    (X-X_)^2  Y-Y_  (Y-Y_)^2  (X-X_)*(Y-Y_)\n",
              "0  230.1      22.1  128.21  16437.8041  8.95   80.1025      1147.4795\n",
              "1   44.5      10.4  -57.39   3293.6121 -2.75    7.5625       157.8225\n",
              "2   17.2      12.0  -84.69   7172.3961 -1.15    1.3225        97.3935\n",
              "3  151.5      16.5   49.61   2461.1521  3.35   11.2225       166.1935\n",
              "4  180.8      17.9   78.91   6226.7881  4.75   22.5625       374.8225\n",
              "5    8.7       7.2  -93.19   8684.3761 -5.95   35.4025       554.4805\n",
              "6   57.5      11.8  -44.39   1970.4721 -1.35    1.8225        59.9265\n",
              "7  120.2      13.2   18.31    335.2561  0.05    0.0025         0.9155\n",
              "8    8.6       4.8  -93.29   8703.0241 -8.35   69.7225       778.9715\n",
              "9  199.8      15.6   97.91   9586.3681  2.45    6.0025       239.8795"
            ]
          },
          "metadata": {
            "tags": []
          },
          "execution_count": 112
        }
      ]
    },
    {
      "cell_type": "code",
      "metadata": {
        "id": "YvTv9efwnV7n"
      },
      "source": [
        "n = df_TV1.shape[0]"
      ],
      "execution_count": null,
      "outputs": []
    },
    {
      "cell_type": "code",
      "metadata": {
        "colab": {
          "base_uri": "https://localhost:8080/"
        },
        "id": "AzSPCTK4nV5K",
        "outputId": "b789f2a3-7487-484e-ba89-5cee9092ecbd"
      },
      "source": [
        "df_TV1['(X-X_)^2'].sum()"
      ],
      "execution_count": null,
      "outputs": [
        {
          "output_type": "execute_result",
          "data": {
            "text/plain": [
              "64871.248999999996"
            ]
          },
          "metadata": {
            "tags": []
          },
          "execution_count": 114
        }
      ]
    },
    {
      "cell_type": "code",
      "metadata": {
        "colab": {
          "base_uri": "https://localhost:8080/"
        },
        "id": "D8ZTFCkcnV2-",
        "outputId": "174e53dd-0c9b-412e-b5a6-4d13cd0e9b96"
      },
      "source": [
        "df_TV1['(Y-Y_)^2'].sum()"
      ],
      "execution_count": null,
      "outputs": [
        {
          "output_type": "execute_result",
          "data": {
            "text/plain": [
              "235.72500000000002"
            ]
          },
          "metadata": {
            "tags": []
          },
          "execution_count": 115
        }
      ]
    },
    {
      "cell_type": "code",
      "metadata": {
        "colab": {
          "base_uri": "https://localhost:8080/"
        },
        "id": "012EKWAhnV0T",
        "outputId": "360ea3be-dda7-41e5-99e2-f67ce74e6a39"
      },
      "source": [
        "df_TV1['(X-X_)*(Y-Y_)'].sum()"
      ],
      "execution_count": null,
      "outputs": [
        {
          "output_type": "execute_result",
          "data": {
            "text/plain": [
              "3577.885"
            ]
          },
          "metadata": {
            "tags": []
          },
          "execution_count": 116
        }
      ]
    },
    {
      "cell_type": "code",
      "metadata": {
        "colab": {
          "base_uri": "https://localhost:8080/"
        },
        "id": "KjM_uTYenVuB",
        "outputId": "c8ac6ebf-4bad-4e89-be02-82357c37b6ba"
      },
      "source": [
        "df_TV1['(X-X_)^2'].sum()*df_TV1['(Y-Y_)^2'].sum()"
      ],
      "execution_count": null,
      "outputs": [
        {
          "output_type": "execute_result",
          "data": {
            "text/plain": [
              "15291775.170525001"
            ]
          },
          "metadata": {
            "tags": []
          },
          "execution_count": 117
        }
      ]
    },
    {
      "cell_type": "code",
      "metadata": {
        "colab": {
          "base_uri": "https://localhost:8080/"
        },
        "id": "qGM1nDt2nm6T",
        "outputId": "fd5be00b-4077-4eea-8e23-2952d33fe1a7"
      },
      "source": [
        "math.sqrt(df_TV1['(X-X_)^2'].sum()*df_TV1['(Y-Y_)^2'].sum())"
      ],
      "execution_count": null,
      "outputs": [
        {
          "output_type": "execute_result",
          "data": {
            "text/plain": [
              "3910.469942414211"
            ]
          },
          "metadata": {
            "tags": []
          },
          "execution_count": 118
        }
      ]
    },
    {
      "cell_type": "code",
      "metadata": {
        "colab": {
          "base_uri": "https://localhost:8080/"
        },
        "id": "YkLfAjwGnq97",
        "outputId": "313a91e3-67a3-47e4-8a5a-10301fe7626b"
      },
      "source": [
        "r = (df_TV1['(X-X_)*(Y-Y_)'].sum())/(math.sqrt(df_TV1['(X-X_)^2'].sum()*df_TV1['(Y-Y_)^2'].sum()))\n",
        "print('ค่า R : ',r)"
      ],
      "execution_count": null,
      "outputs": [
        {
          "output_type": "stream",
          "text": [
            "ค่า R :  0.9149501345587936\n"
          ],
          "name": "stdout"
        }
      ]
    },
    {
      "cell_type": "markdown",
      "metadata": {
        "id": "7v5SL7d4nwTR"
      },
      "source": [
        "#หา Yhat\n"
      ]
    },
    {
      "cell_type": "code",
      "metadata": {
        "colab": {
          "base_uri": "https://localhost:8080/"
        },
        "id": "-Fup8kmsntwL",
        "outputId": "35e05d2f-ad79-4ed3-c3e2-47aef3c476fa"
      },
      "source": [
        "Sy = math.sqrt(df_TV1['(Y-Y_)^2'].sum()/(n-1))\n",
        "Sx = math.sqrt(df_TV1['(X-X_)^2'].sum()/(n-1))\n",
        "print('ค่า Sy : ',Sy)\n",
        "print('ค่า SX : ',Sx)"
      ],
      "execution_count": null,
      "outputs": [
        {
          "output_type": "stream",
          "text": [
            "ค่า Sy :  5.117779466396209\n",
            "ค่า SX :  84.89944967757775\n"
          ],
          "name": "stdout"
        }
      ]
    },
    {
      "cell_type": "code",
      "metadata": {
        "colab": {
          "base_uri": "https://localhost:8080/"
        },
        "id": "_EvZGfscn4CS",
        "outputId": "47a9134c-7f3f-4021-f3ff-20a3a8e9ac34"
      },
      "source": [
        "b = r * (Sy/Sx)\n",
        "print('ค่า B ทีค่าเท่ากับ : ',b)"
      ],
      "execution_count": null,
      "outputs": [
        {
          "output_type": "stream",
          "text": [
            "ค่า B ทีค่าเท่ากับ :  0.05515363208129382\n"
          ],
          "name": "stdout"
        }
      ]
    },
    {
      "cell_type": "code",
      "metadata": {
        "colab": {
          "base_uri": "https://localhost:8080/"
        },
        "id": "QwbjnI0In54v",
        "outputId": "d7cebd13-530e-4004-cce3-3bdbb36413cd"
      },
      "source": [
        "a = Y_mean - (b*X_mean)\n",
        "print('ค่า A ทีค่าเท่ากับ : ',a)"
      ],
      "execution_count": null,
      "outputs": [
        {
          "output_type": "stream",
          "text": [
            "ค่า A ทีค่าเท่ากับ :  7.530396427236973\n"
          ],
          "name": "stdout"
        }
      ]
    },
    {
      "cell_type": "markdown",
      "metadata": {
        "id": "ulu3TFX5n79l"
      },
      "source": [
        "#SSE"
      ]
    },
    {
      "cell_type": "code",
      "metadata": {
        "id": "Ck4siEZkn75B"
      },
      "source": [
        "df_Y=pd.DataFrame({'Sales(Y)':[22.1,10.4,12,16.5,17.9,7.2,11.8,13.2,4.8,15.6]})\n",
        "df_Y['Yhat'] = a + (b*df_TV1['TV(X)'])"
      ],
      "execution_count": null,
      "outputs": []
    },
    {
      "cell_type": "code",
      "metadata": {
        "colab": {
          "base_uri": "https://localhost:8080/",
          "height": 351
        },
        "id": "QQFGebBvn729",
        "outputId": "c8edebc4-3afa-45e9-cd3d-f014512e1b9e"
      },
      "source": [
        "df_Y"
      ],
      "execution_count": null,
      "outputs": [
        {
          "output_type": "execute_result",
          "data": {
            "text/html": [
              "<div>\n",
              "<style scoped>\n",
              "    .dataframe tbody tr th:only-of-type {\n",
              "        vertical-align: middle;\n",
              "    }\n",
              "\n",
              "    .dataframe tbody tr th {\n",
              "        vertical-align: top;\n",
              "    }\n",
              "\n",
              "    .dataframe thead th {\n",
              "        text-align: right;\n",
              "    }\n",
              "</style>\n",
              "<table border=\"1\" class=\"dataframe\">\n",
              "  <thead>\n",
              "    <tr style=\"text-align: right;\">\n",
              "      <th></th>\n",
              "      <th>Sales(Y)</th>\n",
              "      <th>Yhat</th>\n",
              "    </tr>\n",
              "  </thead>\n",
              "  <tbody>\n",
              "    <tr>\n",
              "      <th>0</th>\n",
              "      <td>22.1</td>\n",
              "      <td>20.221247</td>\n",
              "    </tr>\n",
              "    <tr>\n",
              "      <th>1</th>\n",
              "      <td>10.4</td>\n",
              "      <td>9.984733</td>\n",
              "    </tr>\n",
              "    <tr>\n",
              "      <th>2</th>\n",
              "      <td>12.0</td>\n",
              "      <td>8.479039</td>\n",
              "    </tr>\n",
              "    <tr>\n",
              "      <th>3</th>\n",
              "      <td>16.5</td>\n",
              "      <td>15.886172</td>\n",
              "    </tr>\n",
              "    <tr>\n",
              "      <th>4</th>\n",
              "      <td>17.9</td>\n",
              "      <td>17.502173</td>\n",
              "    </tr>\n",
              "    <tr>\n",
              "      <th>5</th>\n",
              "      <td>7.2</td>\n",
              "      <td>8.010233</td>\n",
              "    </tr>\n",
              "    <tr>\n",
              "      <th>6</th>\n",
              "      <td>11.8</td>\n",
              "      <td>10.701730</td>\n",
              "    </tr>\n",
              "    <tr>\n",
              "      <th>7</th>\n",
              "      <td>13.2</td>\n",
              "      <td>14.159863</td>\n",
              "    </tr>\n",
              "    <tr>\n",
              "      <th>8</th>\n",
              "      <td>4.8</td>\n",
              "      <td>8.004718</td>\n",
              "    </tr>\n",
              "    <tr>\n",
              "      <th>9</th>\n",
              "      <td>15.6</td>\n",
              "      <td>18.550092</td>\n",
              "    </tr>\n",
              "  </tbody>\n",
              "</table>\n",
              "</div>"
            ],
            "text/plain": [
              "   Sales(Y)       Yhat\n",
              "0      22.1  20.221247\n",
              "1      10.4   9.984733\n",
              "2      12.0   8.479039\n",
              "3      16.5  15.886172\n",
              "4      17.9  17.502173\n",
              "5       7.2   8.010233\n",
              "6      11.8  10.701730\n",
              "7      13.2  14.159863\n",
              "8       4.8   8.004718\n",
              "9      15.6  18.550092"
            ]
          },
          "metadata": {
            "tags": []
          },
          "execution_count": 124
        }
      ]
    },
    {
      "cell_type": "code",
      "metadata": {
        "id": "tpQuRfFLn70j"
      },
      "source": [
        "df_SSE=df_Y.copy()"
      ],
      "execution_count": null,
      "outputs": []
    },
    {
      "cell_type": "code",
      "metadata": {
        "id": "vRLYNkrPn6oz"
      },
      "source": [
        "df_SSE['Y-Yhat'] = (df_SSE['Sales(Y)'] - df_SSE['Yhat'])"
      ],
      "execution_count": null,
      "outputs": []
    },
    {
      "cell_type": "code",
      "metadata": {
        "id": "bZqc8bHZoOPh"
      },
      "source": [
        "df_SSE['Y-Yhat^2'] = df_SSE['Y-Yhat']**2"
      ],
      "execution_count": null,
      "outputs": []
    },
    {
      "cell_type": "code",
      "metadata": {
        "colab": {
          "base_uri": "https://localhost:8080/",
          "height": 351
        },
        "id": "61zCPZHMoONQ",
        "outputId": "26c5d2c2-4d31-4b88-b96f-eb5fa60fbbdf"
      },
      "source": [
        "df_SSE"
      ],
      "execution_count": null,
      "outputs": [
        {
          "output_type": "execute_result",
          "data": {
            "text/html": [
              "<div>\n",
              "<style scoped>\n",
              "    .dataframe tbody tr th:only-of-type {\n",
              "        vertical-align: middle;\n",
              "    }\n",
              "\n",
              "    .dataframe tbody tr th {\n",
              "        vertical-align: top;\n",
              "    }\n",
              "\n",
              "    .dataframe thead th {\n",
              "        text-align: right;\n",
              "    }\n",
              "</style>\n",
              "<table border=\"1\" class=\"dataframe\">\n",
              "  <thead>\n",
              "    <tr style=\"text-align: right;\">\n",
              "      <th></th>\n",
              "      <th>Sales(Y)</th>\n",
              "      <th>Yhat</th>\n",
              "      <th>Y-Yhat</th>\n",
              "      <th>Y-Yhat^2</th>\n",
              "    </tr>\n",
              "  </thead>\n",
              "  <tbody>\n",
              "    <tr>\n",
              "      <th>0</th>\n",
              "      <td>22.1</td>\n",
              "      <td>20.221247</td>\n",
              "      <td>1.878753</td>\n",
              "      <td>3.529712</td>\n",
              "    </tr>\n",
              "    <tr>\n",
              "      <th>1</th>\n",
              "      <td>10.4</td>\n",
              "      <td>9.984733</td>\n",
              "      <td>0.415267</td>\n",
              "      <td>0.172447</td>\n",
              "    </tr>\n",
              "    <tr>\n",
              "      <th>2</th>\n",
              "      <td>12.0</td>\n",
              "      <td>8.479039</td>\n",
              "      <td>3.520961</td>\n",
              "      <td>12.397167</td>\n",
              "    </tr>\n",
              "    <tr>\n",
              "      <th>3</th>\n",
              "      <td>16.5</td>\n",
              "      <td>15.886172</td>\n",
              "      <td>0.613828</td>\n",
              "      <td>0.376785</td>\n",
              "    </tr>\n",
              "    <tr>\n",
              "      <th>4</th>\n",
              "      <td>17.9</td>\n",
              "      <td>17.502173</td>\n",
              "      <td>0.397827</td>\n",
              "      <td>0.158266</td>\n",
              "    </tr>\n",
              "    <tr>\n",
              "      <th>5</th>\n",
              "      <td>7.2</td>\n",
              "      <td>8.010233</td>\n",
              "      <td>-0.810233</td>\n",
              "      <td>0.656478</td>\n",
              "    </tr>\n",
              "    <tr>\n",
              "      <th>6</th>\n",
              "      <td>11.8</td>\n",
              "      <td>10.701730</td>\n",
              "      <td>1.098270</td>\n",
              "      <td>1.206196</td>\n",
              "    </tr>\n",
              "    <tr>\n",
              "      <th>7</th>\n",
              "      <td>13.2</td>\n",
              "      <td>14.159863</td>\n",
              "      <td>-0.959863</td>\n",
              "      <td>0.921337</td>\n",
              "    </tr>\n",
              "    <tr>\n",
              "      <th>8</th>\n",
              "      <td>4.8</td>\n",
              "      <td>8.004718</td>\n",
              "      <td>-3.204718</td>\n",
              "      <td>10.270215</td>\n",
              "    </tr>\n",
              "    <tr>\n",
              "      <th>9</th>\n",
              "      <td>15.6</td>\n",
              "      <td>18.550092</td>\n",
              "      <td>-2.950092</td>\n",
              "      <td>8.703043</td>\n",
              "    </tr>\n",
              "  </tbody>\n",
              "</table>\n",
              "</div>"
            ],
            "text/plain": [
              "   Sales(Y)       Yhat    Y-Yhat   Y-Yhat^2\n",
              "0      22.1  20.221247  1.878753   3.529712\n",
              "1      10.4   9.984733  0.415267   0.172447\n",
              "2      12.0   8.479039  3.520961  12.397167\n",
              "3      16.5  15.886172  0.613828   0.376785\n",
              "4      17.9  17.502173  0.397827   0.158266\n",
              "5       7.2   8.010233 -0.810233   0.656478\n",
              "6      11.8  10.701730  1.098270   1.206196\n",
              "7      13.2  14.159863 -0.959863   0.921337\n",
              "8       4.8   8.004718 -3.204718  10.270215\n",
              "9      15.6  18.550092 -2.950092   8.703043"
            ]
          },
          "metadata": {
            "tags": []
          },
          "execution_count": 128
        }
      ]
    },
    {
      "cell_type": "code",
      "metadata": {
        "colab": {
          "base_uri": "https://localhost:8080/"
        },
        "id": "Ma4UrxtJoOK5",
        "outputId": "eedef2d6-5a96-4f39-ab1c-76ae7068108c"
      },
      "source": [
        "SSE = df_SSE['Y-Yhat^2'].sum()\n",
        "print('Sum Squared Error : %.2f'%SSE)"
      ],
      "execution_count": null,
      "outputs": [
        {
          "output_type": "stream",
          "text": [
            "Sum Squared Error : 38.39\n"
          ],
          "name": "stdout"
        }
      ]
    },
    {
      "cell_type": "markdown",
      "metadata": {
        "id": "lMV7919CoU-Q"
      },
      "source": [
        "#MSE"
      ]
    },
    {
      "cell_type": "code",
      "metadata": {
        "colab": {
          "base_uri": "https://localhost:8080/"
        },
        "id": "bpfu_l9HoOI1",
        "outputId": "122def4c-ec2a-4bb3-9d16-6e4b6654ce8c"
      },
      "source": [
        "MSE=SSE / n\n",
        "print('Mean Squared Error : %.2f'%MSE)"
      ],
      "execution_count": null,
      "outputs": [
        {
          "output_type": "stream",
          "text": [
            "Mean Squared Error : 3.84\n"
          ],
          "name": "stdout"
        }
      ]
    },
    {
      "cell_type": "markdown",
      "metadata": {
        "id": "cQuQuYkgoW0Q"
      },
      "source": [
        "#MAE"
      ]
    },
    {
      "cell_type": "code",
      "metadata": {
        "id": "iW33FfEEoOGw"
      },
      "source": [
        "df_MAE =df_Y.copy()"
      ],
      "execution_count": null,
      "outputs": []
    },
    {
      "cell_type": "code",
      "metadata": {
        "id": "DVvd4x4_oOEm"
      },
      "source": [
        "df_MAE['Y-Yhat'] = (df_MAE['Sales(Y)'] - df_MAE['Yhat'])"
      ],
      "execution_count": null,
      "outputs": []
    },
    {
      "cell_type": "code",
      "metadata": {
        "id": "aMmvvgWvob6h"
      },
      "source": [
        "df_MAE['|Y-Yhat|']= abs(df_MAE['Y-Yhat'])"
      ],
      "execution_count": null,
      "outputs": []
    },
    {
      "cell_type": "code",
      "metadata": {
        "colab": {
          "base_uri": "https://localhost:8080/",
          "height": 351
        },
        "id": "ZoEOymfnob4D",
        "outputId": "5e44821f-58e6-4afa-ea6f-462cc8b65ce1"
      },
      "source": [
        "df_MAE"
      ],
      "execution_count": null,
      "outputs": [
        {
          "output_type": "execute_result",
          "data": {
            "text/html": [
              "<div>\n",
              "<style scoped>\n",
              "    .dataframe tbody tr th:only-of-type {\n",
              "        vertical-align: middle;\n",
              "    }\n",
              "\n",
              "    .dataframe tbody tr th {\n",
              "        vertical-align: top;\n",
              "    }\n",
              "\n",
              "    .dataframe thead th {\n",
              "        text-align: right;\n",
              "    }\n",
              "</style>\n",
              "<table border=\"1\" class=\"dataframe\">\n",
              "  <thead>\n",
              "    <tr style=\"text-align: right;\">\n",
              "      <th></th>\n",
              "      <th>Sales(Y)</th>\n",
              "      <th>Yhat</th>\n",
              "      <th>Y-Yhat</th>\n",
              "      <th>|Y-Yhat|</th>\n",
              "    </tr>\n",
              "  </thead>\n",
              "  <tbody>\n",
              "    <tr>\n",
              "      <th>0</th>\n",
              "      <td>22.1</td>\n",
              "      <td>20.221247</td>\n",
              "      <td>1.878753</td>\n",
              "      <td>1.878753</td>\n",
              "    </tr>\n",
              "    <tr>\n",
              "      <th>1</th>\n",
              "      <td>10.4</td>\n",
              "      <td>9.984733</td>\n",
              "      <td>0.415267</td>\n",
              "      <td>0.415267</td>\n",
              "    </tr>\n",
              "    <tr>\n",
              "      <th>2</th>\n",
              "      <td>12.0</td>\n",
              "      <td>8.479039</td>\n",
              "      <td>3.520961</td>\n",
              "      <td>3.520961</td>\n",
              "    </tr>\n",
              "    <tr>\n",
              "      <th>3</th>\n",
              "      <td>16.5</td>\n",
              "      <td>15.886172</td>\n",
              "      <td>0.613828</td>\n",
              "      <td>0.613828</td>\n",
              "    </tr>\n",
              "    <tr>\n",
              "      <th>4</th>\n",
              "      <td>17.9</td>\n",
              "      <td>17.502173</td>\n",
              "      <td>0.397827</td>\n",
              "      <td>0.397827</td>\n",
              "    </tr>\n",
              "    <tr>\n",
              "      <th>5</th>\n",
              "      <td>7.2</td>\n",
              "      <td>8.010233</td>\n",
              "      <td>-0.810233</td>\n",
              "      <td>0.810233</td>\n",
              "    </tr>\n",
              "    <tr>\n",
              "      <th>6</th>\n",
              "      <td>11.8</td>\n",
              "      <td>10.701730</td>\n",
              "      <td>1.098270</td>\n",
              "      <td>1.098270</td>\n",
              "    </tr>\n",
              "    <tr>\n",
              "      <th>7</th>\n",
              "      <td>13.2</td>\n",
              "      <td>14.159863</td>\n",
              "      <td>-0.959863</td>\n",
              "      <td>0.959863</td>\n",
              "    </tr>\n",
              "    <tr>\n",
              "      <th>8</th>\n",
              "      <td>4.8</td>\n",
              "      <td>8.004718</td>\n",
              "      <td>-3.204718</td>\n",
              "      <td>3.204718</td>\n",
              "    </tr>\n",
              "    <tr>\n",
              "      <th>9</th>\n",
              "      <td>15.6</td>\n",
              "      <td>18.550092</td>\n",
              "      <td>-2.950092</td>\n",
              "      <td>2.950092</td>\n",
              "    </tr>\n",
              "  </tbody>\n",
              "</table>\n",
              "</div>"
            ],
            "text/plain": [
              "   Sales(Y)       Yhat    Y-Yhat  |Y-Yhat|\n",
              "0      22.1  20.221247  1.878753  1.878753\n",
              "1      10.4   9.984733  0.415267  0.415267\n",
              "2      12.0   8.479039  3.520961  3.520961\n",
              "3      16.5  15.886172  0.613828  0.613828\n",
              "4      17.9  17.502173  0.397827  0.397827\n",
              "5       7.2   8.010233 -0.810233  0.810233\n",
              "6      11.8  10.701730  1.098270  1.098270\n",
              "7      13.2  14.159863 -0.959863  0.959863\n",
              "8       4.8   8.004718 -3.204718  3.204718\n",
              "9      15.6  18.550092 -2.950092  2.950092"
            ]
          },
          "metadata": {
            "tags": []
          },
          "execution_count": 134
        }
      ]
    },
    {
      "cell_type": "code",
      "metadata": {
        "colab": {
          "base_uri": "https://localhost:8080/"
        },
        "id": "YtgEdGZqobzi",
        "outputId": "4b1a688f-a7e9-48de-98c6-3a70f218f69c"
      },
      "source": [
        "df_MAE['|Y-Yhat|'].sum()"
      ],
      "execution_count": null,
      "outputs": [
        {
          "output_type": "execute_result",
          "data": {
            "text/plain": [
              "15.8498116199366"
            ]
          },
          "metadata": {
            "tags": []
          },
          "execution_count": 135
        }
      ]
    },
    {
      "cell_type": "code",
      "metadata": {
        "colab": {
          "base_uri": "https://localhost:8080/"
        },
        "id": "VzC4XB_jobxh",
        "outputId": "4c409711-d348-420b-f44a-5da3410f25c7"
      },
      "source": [
        "MAE=df_MAE['|Y-Yhat|'].sum()\n",
        "resultMAE=MAE / n\n",
        "print('Mean Absolute Error : %.2f'%resultMAE)"
      ],
      "execution_count": null,
      "outputs": [
        {
          "output_type": "stream",
          "text": [
            "Mean Absolute Error : 1.58\n"
          ],
          "name": "stdout"
        }
      ]
    },
    {
      "cell_type": "markdown",
      "metadata": {
        "id": "xXLMohKaokWS"
      },
      "source": [
        "#MAPE\n"
      ]
    },
    {
      "cell_type": "code",
      "metadata": {
        "id": "hl92-Lq7obve"
      },
      "source": [
        "df_MAPE = df_Y.copy()"
      ],
      "execution_count": null,
      "outputs": []
    },
    {
      "cell_type": "code",
      "metadata": {
        "id": "o_crQORrobtY"
      },
      "source": [
        "df_MAPE['Y-Yhat'] = (df_MAPE['Sales(Y)'] - df_MAPE['Yhat'])"
      ],
      "execution_count": null,
      "outputs": []
    },
    {
      "cell_type": "code",
      "metadata": {
        "id": "AOMJfc-7ooN4"
      },
      "source": [
        "df_MAPE['Y-Yhat/Y'] = df_MAPE['Y-Yhat']/df_MAPE['Sales(Y)']"
      ],
      "execution_count": null,
      "outputs": []
    },
    {
      "cell_type": "code",
      "metadata": {
        "id": "NSaA8oNqosqD"
      },
      "source": [
        "df_MAPE['|Y-Yhat/Y|'] = abs(df_MAPE['Y-Yhat/Y'])"
      ],
      "execution_count": null,
      "outputs": []
    },
    {
      "cell_type": "code",
      "metadata": {
        "colab": {
          "base_uri": "https://localhost:8080/",
          "height": 351
        },
        "id": "w6avhwbZotfL",
        "outputId": "dc006887-489c-46a3-8b2f-b9cb6ab543d2"
      },
      "source": [
        "df_MAPE"
      ],
      "execution_count": null,
      "outputs": [
        {
          "output_type": "execute_result",
          "data": {
            "text/html": [
              "<div>\n",
              "<style scoped>\n",
              "    .dataframe tbody tr th:only-of-type {\n",
              "        vertical-align: middle;\n",
              "    }\n",
              "\n",
              "    .dataframe tbody tr th {\n",
              "        vertical-align: top;\n",
              "    }\n",
              "\n",
              "    .dataframe thead th {\n",
              "        text-align: right;\n",
              "    }\n",
              "</style>\n",
              "<table border=\"1\" class=\"dataframe\">\n",
              "  <thead>\n",
              "    <tr style=\"text-align: right;\">\n",
              "      <th></th>\n",
              "      <th>Sales(Y)</th>\n",
              "      <th>Yhat</th>\n",
              "      <th>Y-Yhat</th>\n",
              "      <th>Y-Yhat/Y</th>\n",
              "      <th>|Y-Yhat/Y|</th>\n",
              "    </tr>\n",
              "  </thead>\n",
              "  <tbody>\n",
              "    <tr>\n",
              "      <th>0</th>\n",
              "      <td>22.1</td>\n",
              "      <td>20.221247</td>\n",
              "      <td>1.878753</td>\n",
              "      <td>0.085011</td>\n",
              "      <td>0.085011</td>\n",
              "    </tr>\n",
              "    <tr>\n",
              "      <th>1</th>\n",
              "      <td>10.4</td>\n",
              "      <td>9.984733</td>\n",
              "      <td>0.415267</td>\n",
              "      <td>0.039930</td>\n",
              "      <td>0.039930</td>\n",
              "    </tr>\n",
              "    <tr>\n",
              "      <th>2</th>\n",
              "      <td>12.0</td>\n",
              "      <td>8.479039</td>\n",
              "      <td>3.520961</td>\n",
              "      <td>0.293413</td>\n",
              "      <td>0.293413</td>\n",
              "    </tr>\n",
              "    <tr>\n",
              "      <th>3</th>\n",
              "      <td>16.5</td>\n",
              "      <td>15.886172</td>\n",
              "      <td>0.613828</td>\n",
              "      <td>0.037202</td>\n",
              "      <td>0.037202</td>\n",
              "    </tr>\n",
              "    <tr>\n",
              "      <th>4</th>\n",
              "      <td>17.9</td>\n",
              "      <td>17.502173</td>\n",
              "      <td>0.397827</td>\n",
              "      <td>0.022225</td>\n",
              "      <td>0.022225</td>\n",
              "    </tr>\n",
              "    <tr>\n",
              "      <th>5</th>\n",
              "      <td>7.2</td>\n",
              "      <td>8.010233</td>\n",
              "      <td>-0.810233</td>\n",
              "      <td>-0.112532</td>\n",
              "      <td>0.112532</td>\n",
              "    </tr>\n",
              "    <tr>\n",
              "      <th>6</th>\n",
              "      <td>11.8</td>\n",
              "      <td>10.701730</td>\n",
              "      <td>1.098270</td>\n",
              "      <td>0.093074</td>\n",
              "      <td>0.093074</td>\n",
              "    </tr>\n",
              "    <tr>\n",
              "      <th>7</th>\n",
              "      <td>13.2</td>\n",
              "      <td>14.159863</td>\n",
              "      <td>-0.959863</td>\n",
              "      <td>-0.072717</td>\n",
              "      <td>0.072717</td>\n",
              "    </tr>\n",
              "    <tr>\n",
              "      <th>8</th>\n",
              "      <td>4.8</td>\n",
              "      <td>8.004718</td>\n",
              "      <td>-3.204718</td>\n",
              "      <td>-0.667650</td>\n",
              "      <td>0.667650</td>\n",
              "    </tr>\n",
              "    <tr>\n",
              "      <th>9</th>\n",
              "      <td>15.6</td>\n",
              "      <td>18.550092</td>\n",
              "      <td>-2.950092</td>\n",
              "      <td>-0.189108</td>\n",
              "      <td>0.189108</td>\n",
              "    </tr>\n",
              "  </tbody>\n",
              "</table>\n",
              "</div>"
            ],
            "text/plain": [
              "   Sales(Y)       Yhat    Y-Yhat  Y-Yhat/Y  |Y-Yhat/Y|\n",
              "0      22.1  20.221247  1.878753  0.085011    0.085011\n",
              "1      10.4   9.984733  0.415267  0.039930    0.039930\n",
              "2      12.0   8.479039  3.520961  0.293413    0.293413\n",
              "3      16.5  15.886172  0.613828  0.037202    0.037202\n",
              "4      17.9  17.502173  0.397827  0.022225    0.022225\n",
              "5       7.2   8.010233 -0.810233 -0.112532    0.112532\n",
              "6      11.8  10.701730  1.098270  0.093074    0.093074\n",
              "7      13.2  14.159863 -0.959863 -0.072717    0.072717\n",
              "8       4.8   8.004718 -3.204718 -0.667650    0.667650\n",
              "9      15.6  18.550092 -2.950092 -0.189108    0.189108"
            ]
          },
          "metadata": {
            "tags": []
          },
          "execution_count": 141
        }
      ]
    },
    {
      "cell_type": "code",
      "metadata": {
        "colab": {
          "base_uri": "https://localhost:8080/"
        },
        "id": "cXhCJivPouYg",
        "outputId": "9b608329-0f98-4e84-f89f-1c2787ff81af"
      },
      "source": [
        "df_MAPE['Y-Yhat/Y'].sum()"
      ],
      "execution_count": null,
      "outputs": [
        {
          "output_type": "execute_result",
          "data": {
            "text/plain": [
              "-0.47115247408197214"
            ]
          },
          "metadata": {
            "tags": []
          },
          "execution_count": 142
        }
      ]
    },
    {
      "cell_type": "code",
      "metadata": {
        "colab": {
          "base_uri": "https://localhost:8080/"
        },
        "id": "sno2VC18ov3h",
        "outputId": "737a5e9f-d44b-4394-e3f8-4879a55a8b5a"
      },
      "source": [
        "df_MAPE['|Y-Yhat/Y|'].sum()"
      ],
      "execution_count": null,
      "outputs": [
        {
          "output_type": "execute_result",
          "data": {
            "text/plain": [
              "1.6128620082471388"
            ]
          },
          "metadata": {
            "tags": []
          },
          "execution_count": 143
        }
      ]
    },
    {
      "cell_type": "code",
      "metadata": {
        "colab": {
          "base_uri": "https://localhost:8080/"
        },
        "id": "25sHT39YowOW",
        "outputId": "add43a3c-93dd-4565-bf8d-b5ffe3103685"
      },
      "source": [
        "MAPE = df_MAPE['|Y-Yhat/Y|'].sum()\n",
        "resultMAPE = (100/n) * (MAPE) \n",
        "print('Mean Absolute Percentage Error : %.2f'%resultMAPE)"
      ],
      "execution_count": null,
      "outputs": [
        {
          "output_type": "stream",
          "text": [
            "Mean Absolute Percentage Error : 16.13\n"
          ],
          "name": "stdout"
        }
      ]
    },
    {
      "cell_type": "code",
      "metadata": {
        "id": "qNDzff_brDjp"
      },
      "source": [
        "yhat=a + (b*df_TV1['TV(X)'])"
      ],
      "execution_count": null,
      "outputs": []
    },
    {
      "cell_type": "code",
      "metadata": {
        "colab": {
          "base_uri": "https://localhost:8080/",
          "height": 403
        },
        "id": "vOAZkjbMqey0",
        "outputId": "4fd9139b-e45a-47e5-ff12-75305dceb956"
      },
      "source": [
        "plt.figure(figsize=(12, 6))\n",
        "plt.plot(df_TV1['TV(X)'], yhat)     # regression line\n",
        "plt.plot(df_TV1['TV(X)'], df_TV1['Sales(Y)'], 'ro')   # scatter plot showing actual data\n",
        "plt.title('Actual vs Predicted')\n",
        "plt.xlabel('TV(X)')\n",
        "plt.ylabel('Sales(Y)')\n",
        "\n",
        "plt.show()"
      ],
      "execution_count": null,
      "outputs": [
        {
          "output_type": "display_data",
          "data": {
            "image/png": "[encoded data removed]",
            "text/plain": [
              "<Figure size 864x432 with 1 Axes>"
            ]
          },
          "metadata": {
            "tags": [],
            "needs_background": "light"
          }
        }
      ]
    },
    {
      "cell_type": "code",
      "metadata": {
        "id": "DuU70ZgGqKko"
      },
      "source": [
        "X = df_TV.drop('Sales(Y)',axis=1)\n",
        "y = df_TV['Sales(Y)']"
      ],
      "execution_count": null,
      "outputs": []
    },
    {
      "cell_type": "code",
      "metadata": {
        "colab": {
          "base_uri": "https://localhost:8080/",
          "height": 351
        },
        "id": "HNXYP2UnqayE",
        "outputId": "89e2b1d5-1884-41ce-9bd3-206911537e8e"
      },
      "source": [
        "X"
      ],
      "execution_count": null,
      "outputs": [
        {
          "output_type": "execute_result",
          "data": {
            "text/html": [
              "<div>\n",
              "<style scoped>\n",
              "    .dataframe tbody tr th:only-of-type {\n",
              "        vertical-align: middle;\n",
              "    }\n",
              "\n",
              "    .dataframe tbody tr th {\n",
              "        vertical-align: top;\n",
              "    }\n",
              "\n",
              "    .dataframe thead th {\n",
              "        text-align: right;\n",
              "    }\n",
              "</style>\n",
              "<table border=\"1\" class=\"dataframe\">\n",
              "  <thead>\n",
              "    <tr style=\"text-align: right;\">\n",
              "      <th></th>\n",
              "      <th>TV(X)</th>\n",
              "      <th>X2</th>\n",
              "      <th>XY</th>\n",
              "    </tr>\n",
              "  </thead>\n",
              "  <tbody>\n",
              "    <tr>\n",
              "      <th>0</th>\n",
              "      <td>230.1</td>\n",
              "      <td>52946.01</td>\n",
              "      <td>5085.21</td>\n",
              "    </tr>\n",
              "    <tr>\n",
              "      <th>1</th>\n",
              "      <td>44.5</td>\n",
              "      <td>1980.25</td>\n",
              "      <td>462.80</td>\n",
              "    </tr>\n",
              "    <tr>\n",
              "      <th>2</th>\n",
              "      <td>17.2</td>\n",
              "      <td>295.84</td>\n",
              "      <td>206.40</td>\n",
              "    </tr>\n",
              "    <tr>\n",
              "      <th>3</th>\n",
              "      <td>151.5</td>\n",
              "      <td>22952.25</td>\n",
              "      <td>2499.75</td>\n",
              "    </tr>\n",
              "    <tr>\n",
              "      <th>4</th>\n",
              "      <td>180.8</td>\n",
              "      <td>32688.64</td>\n",
              "      <td>3236.32</td>\n",
              "    </tr>\n",
              "    <tr>\n",
              "      <th>5</th>\n",
              "      <td>8.7</td>\n",
              "      <td>75.69</td>\n",
              "      <td>62.64</td>\n",
              "    </tr>\n",
              "    <tr>\n",
              "      <th>6</th>\n",
              "      <td>57.5</td>\n",
              "      <td>3306.25</td>\n",
              "      <td>678.50</td>\n",
              "    </tr>\n",
              "    <tr>\n",
              "      <th>7</th>\n",
              "      <td>120.2</td>\n",
              "      <td>14448.04</td>\n",
              "      <td>1586.64</td>\n",
              "    </tr>\n",
              "    <tr>\n",
              "      <th>8</th>\n",
              "      <td>8.6</td>\n",
              "      <td>73.96</td>\n",
              "      <td>41.28</td>\n",
              "    </tr>\n",
              "    <tr>\n",
              "      <th>9</th>\n",
              "      <td>199.8</td>\n",
              "      <td>39920.04</td>\n",
              "      <td>3116.88</td>\n",
              "    </tr>\n",
              "  </tbody>\n",
              "</table>\n",
              "</div>"
            ],
            "text/plain": [
              "   TV(X)        X2       XY\n",
              "0  230.1  52946.01  5085.21\n",
              "1   44.5   1980.25   462.80\n",
              "2   17.2    295.84   206.40\n",
              "3  151.5  22952.25  2499.75\n",
              "4  180.8  32688.64  3236.32\n",
              "5    8.7     75.69    62.64\n",
              "6   57.5   3306.25   678.50\n",
              "7  120.2  14448.04  1586.64\n",
              "8    8.6     73.96    41.28\n",
              "9  199.8  39920.04  3116.88"
            ]
          },
          "metadata": {
            "tags": []
          },
          "execution_count": 148
        }
      ]
    },
    {
      "cell_type": "code",
      "metadata": {
        "colab": {
          "base_uri": "https://localhost:8080/"
        },
        "id": "72Pww_Lhqbv0",
        "outputId": "41297191-5121-4d28-c7c6-57068faeeb81"
      },
      "source": [
        "y"
      ],
      "execution_count": null,
      "outputs": [
        {
          "output_type": "execute_result",
          "data": {
            "text/plain": [
              "0    22.1\n",
              "1    10.4\n",
              "2    12.0\n",
              "3    16.5\n",
              "4    17.9\n",
              "5     7.2\n",
              "6    11.8\n",
              "7    13.2\n",
              "8     4.8\n",
              "9    15.6\n",
              "Name: Sales(Y), dtype: float64"
            ]
          },
          "metadata": {
            "tags": []
          },
          "execution_count": 149
        }
      ]
    },
    {
      "cell_type": "code",
      "metadata": {
        "id": "IkXJBf1ZqcPl"
      },
      "source": [
        "# Step 6: Split the Dataset to Train & Test\n",
        "from sklearn.model_selection import train_test_split\n",
        "X_train, X_test, y_train, y_test = train_test_split(X, y, test_size=0.3, random_state=101)\n",
        "#assigning 30 percents of data to test data for evaluating the model"
      ],
      "execution_count": null,
      "outputs": []
    },
    {
      "cell_type": "code",
      "metadata": {
        "colab": {
          "base_uri": "https://localhost:8080/",
          "height": 78
        },
        "id": "LmTTgHfdqetf",
        "outputId": "ae7b0d75-60bf-4e3c-c3c0-db270696e5c4"
      },
      "source": [
        "#Step 7:Train the Model\n",
        "from sklearn.linear_model import LinearRegression\n",
        "model=LinearRegression()\n",
        "model.fit(X_train, y_train)\n",
        "pd.DataFrame(model.coef_ , X.columns ,columns=['coefcient'])\n",
        "\n",
        "#these codes returns a DataFaram of coeficents"
      ],
      "execution_count": null,
      "outputs": [
        {
          "output_type": "execute_result",
          "data": {
            "text/html": [
              "<div>\n",
              "<style scoped>\n",
              "    .dataframe tbody tr th:only-of-type {\n",
              "        vertical-align: middle;\n",
              "    }\n",
              "\n",
              "    .dataframe tbody tr th {\n",
              "        vertical-align: top;\n",
              "    }\n",
              "\n",
              "    .dataframe thead th {\n",
              "        text-align: right;\n",
              "    }\n",
              "</style>\n",
              "<table border=\"1\" class=\"dataframe\">\n",
              "  <thead>\n",
              "    <tr style=\"text-align: right;\">\n",
              "      <th></th>\n",
              "      <th>coefcient</th>\n",
              "    </tr>\n",
              "  </thead>\n",
              "  <tbody>\n",
              "    <tr>\n",
              "      <th>TV(X)</th>\n",
              "      <td>0.048134</td>\n",
              "    </tr>\n",
              "  </tbody>\n",
              "</table>\n",
              "</div>"
            ],
            "text/plain": [
              "       coefcient\n",
              "TV(X)   0.048134"
            ]
          },
          "metadata": {
            "tags": []
          },
          "execution_count": 61
        }
      ]
    },
    {
      "cell_type": "code",
      "metadata": {
        "colab": {
          "base_uri": "https://localhost:8080/"
        },
        "id": "Myo92n-wqfxE",
        "outputId": "ecdc0063-631a-453e-d37d-8199d6f6aef3"
      },
      "source": [
        "#step 8:predicting Test Data\n",
        "y_pred= model.predict(X_test)\n",
        "y_pred"
      ],
      "execution_count": null,
      "outputs": [
        {
          "output_type": "execute_result",
          "data": {
            "text/plain": [
              "array([ 8.39587118,  8.80982758, 19.05765509])"
            ]
          },
          "metadata": {
            "tags": []
          },
          "execution_count": 62
        }
      ]
    },
    {
      "cell_type": "code",
      "metadata": {
        "colab": {
          "base_uri": "https://localhost:8080/"
        },
        "id": "C1VBQStFqg70",
        "outputId": "432890af-230a-4ba3-bf87-25142bcd02cb"
      },
      "source": [
        "np.array(y_test)"
      ],
      "execution_count": null,
      "outputs": [
        {
          "output_type": "execute_result",
          "data": {
            "text/plain": [
              "array([ 4.8, 12. , 22.1])"
            ]
          },
          "metadata": {
            "tags": []
          },
          "execution_count": 63
        }
      ]
    },
    {
      "cell_type": "code",
      "metadata": {
        "colab": {
          "base_uri": "https://localhost:8080/",
          "height": 138
        },
        "id": "QZhHx2tTqjRc",
        "outputId": "1702ddcb-12a4-43f6-9316-2ab176d4ed3d"
      },
      "source": [
        "#Step 9: Evaluating the Model\n",
        "from sklearn import metrics\n",
        "MAE=metrics.mean_absolute_error(y_test , y_pred)\n",
        "MSE=metrics.mean_squared_error(y_test , y_pred)\n",
        "RMSE=np.sqrt(MSE)\n",
        "a=pd.DataFrame([MAE,MSE,RMSE], index=['MAE','MSE','RMSE'],columns=['Quantity'])\n",
        "a"
      ],
      "execution_count": null,
      "outputs": [
        {
          "output_type": "execute_result",
          "data": {
            "text/html": [
              "<div>\n",
              "<style scoped>\n",
              "    .dataframe tbody tr th:only-of-type {\n",
              "        vertical-align: middle;\n",
              "    }\n",
              "\n",
              "    .dataframe tbody tr th {\n",
              "        vertical-align: top;\n",
              "    }\n",
              "\n",
              "    .dataframe thead th {\n",
              "        text-align: right;\n",
              "    }\n",
              "</style>\n",
              "<table border=\"1\" class=\"dataframe\">\n",
              "  <thead>\n",
              "    <tr style=\"text-align: right;\">\n",
              "      <th></th>\n",
              "      <th>Quantity</th>\n",
              "    </tr>\n",
              "  </thead>\n",
              "  <tbody>\n",
              "    <tr>\n",
              "      <th>MAE</th>\n",
              "      <td>3.276130</td>\n",
              "    </tr>\n",
              "    <tr>\n",
              "      <th>MSE</th>\n",
              "      <td>10.787784</td>\n",
              "    </tr>\n",
              "    <tr>\n",
              "      <th>RMSE</th>\n",
              "      <td>3.284476</td>\n",
              "    </tr>\n",
              "  </tbody>\n",
              "</table>\n",
              "</div>"
            ],
            "text/plain": [
              "       Quantity\n",
              "MAE    3.276130\n",
              "MSE   10.787784\n",
              "RMSE   3.284476"
            ]
          },
          "metadata": {
            "tags": []
          },
          "execution_count": 64
        }
      ]
    },
    {
      "cell_type": "code",
      "metadata": {
        "colab": {
          "base_uri": "https://localhost:8080/",
          "height": 312
        },
        "id": "x16_waMuqk2E",
        "outputId": "d74caa3e-b18c-4d5e-cff4-b9292d3907f2"
      },
      "source": [
        "#Step 10:Residuals:\n",
        "test_residual=y_test-y_pred\n",
        "sns.scatterplot(x=y_test,y=y_pred,color='green' ,s=50)\n",
        "plt.ylabel('y_pred')\n",
        "plt.xlabel('y_test')\n",
        "plt.title('bias of y')"
      ],
      "execution_count": null,
      "outputs": [
        {
          "output_type": "execute_result",
          "data": {
            "text/plain": [
              "Text(0.5, 1.0, 'bias of y')"
            ]
          },
          "metadata": {
            "tags": []
          },
          "execution_count": 65
        },
        {
          "output_type": "display_data",
          "data": {
            "image/png": "[encoded data removed]",
            "text/plain": [
              "<Figure size 432x288 with 1 Axes>"
            ]
          },
          "metadata": {
            "tags": [],
            "needs_background": "light"
          }
        }
      ]
    },
    {
      "cell_type": "code",
      "metadata": {
        "colab": {
          "base_uri": "https://localhost:8080/",
          "height": 295
        },
        "id": "bI_fjsHZqmYF",
        "outputId": "7d700aea-c223-4ff1-f278-da9d7729a736"
      },
      "source": [
        "sns.scatterplot(x=y_test,y=test_residual,s=100)\n",
        "plt.axhline(y=0,color='red',ls='--')"
      ],
      "execution_count": null,
      "outputs": [
        {
          "output_type": "execute_result",
          "data": {
            "text/plain": [
              "<matplotlib.lines.Line2D at 0x7f4c77e83f90>"
            ]
          },
          "metadata": {
            "tags": []
          },
          "execution_count": 66
        },
        {
          "output_type": "display_data",
          "data": {
            "image/png": "[encoded data removed]",
            "text/plain": [
              "<Figure size 432x288 with 1 Axes>"
            ]
          },
          "metadata": {
            "tags": [],
            "needs_background": "light"
          }
        }
      ]
    },
    {
      "cell_type": "code",
      "metadata": {
        "colab": {
          "base_uri": "https://localhost:8080/",
          "height": 441
        },
        "id": "Trvqy-nuqn9D",
        "outputId": "8811e104-883e-4f47-c6d6-970508e8f8cf"
      },
      "source": [
        "sns.jointplot(x=\"TV(X)\", y=\"Sales(Y)\",data=df_TV,kind=\"reg\",color=\"blue\")\n",
        "\n",
        "plt.show()"
      ],
      "execution_count": null,
      "outputs": [
        {
          "output_type": "display_data",
          "data": {
            "image/png": "[encoded data removed]",
            "text/plain": [
              "<Figure size 432x432 with 3 Axes>"
            ]
          },
          "metadata": {
            "tags": [],
            "needs_background": "light"
          }
        }
      ]
    },
    {
      "cell_type": "code",
      "metadata": {
        "id": "dx4G3rbWqpO7"
      },
      "source": [
        "def theta_calc(x_train, y_train):\n",
        "    #Initializing all variables\n",
        "    n_data = x_train.shape[0]\n",
        "    bias = np.ones((n_data,1))\n",
        "    x_train_b = np.append(bias, x_train, axis=1)\n",
        "    #\n",
        "    theta_1 = np.linalg.inv(np.dot(x_train_b.T,x_train_b))\n",
        "    theta_2 = np.dot(theta_1, x_train_b.T)\n",
        "    theta = np.dot(theta_2,y_train)\n",
        "    #\n",
        "    return theta"
      ],
      "execution_count": null,
      "outputs": []
    },
    {
      "cell_type": "code",
      "metadata": {
        "id": "AK3yFmS8qzpc"
      },
      "source": [
        "def predict_func(slope,intercept,x_test):\n",
        "    #\n",
        "    pred = []\n",
        "    n_data = x_test.shape[0]\n",
        "    for i in range(n_data):\n",
        "        pred.append((slope * x_test) + intercept)\n",
        "        \n",
        "    return pred"
      ],
      "execution_count": null,
      "outputs": []
    },
    {
      "cell_type": "code",
      "metadata": {
        "id": "A4NL64Heq0pO"
      },
      "source": [
        "def mse_calc(prediction, y_test):\n",
        "    #\n",
        "    total_data = len(prediction)\n",
        "    error = 0\n",
        "    error = (np.sum((prediction-y_test[i])**2))/total_data\n",
        "    return error"
      ],
      "execution_count": null,
      "outputs": []
    },
    {
      "cell_type": "code",
      "metadata": {
        "id": "GPbL28tnq16M"
      },
      "source": [
        "def rsq(prediction, y_test):\n",
        "    #\n",
        "    total_data = len(prediction)\n",
        "    #Average of total prediction \n",
        "    y_avg = np.sum(y_test)/total_data\n",
        "    #total sum of square error\n",
        "    tot_err = np.sum((y_test-y_avg)**2)\n",
        "    #total sum of squared error of residuals\n",
        "    res_err = np.sum((y_test-prediction)**2)\n",
        "    #\n",
        "    r2 = 1 - (res_err / tot_err)\n",
        "    return r2"
      ],
      "execution_count": null,
      "outputs": []
    },
    {
      "cell_type": "code",
      "metadata": {
        "colab": {
          "base_uri": "https://localhost:8080/"
        },
        "id": "qIxv3dFdq2rb",
        "outputId": "7839220d-51ae-4851-d539-663ef5aaff9a"
      },
      "source": [
        "X_train.shape"
      ],
      "execution_count": null,
      "outputs": [
        {
          "output_type": "execute_result",
          "data": {
            "text/plain": [
              "(7, 1)"
            ]
          },
          "metadata": {
            "tags": []
          },
          "execution_count": 73
        }
      ]
    },
    {
      "cell_type": "code",
      "metadata": {
        "colab": {
          "base_uri": "https://localhost:8080/"
        },
        "id": "cZJaLy3pq3ye",
        "outputId": "79f0a2fd-7e15-450b-f1fb-11f1481251da"
      },
      "source": [
        "X_test.shape\n"
      ],
      "execution_count": null,
      "outputs": [
        {
          "output_type": "execute_result",
          "data": {
            "text/plain": [
              "(3, 1)"
            ]
          },
          "metadata": {
            "tags": []
          },
          "execution_count": 74
        }
      ]
    },
    {
      "cell_type": "code",
      "metadata": {
        "colab": {
          "base_uri": "https://localhost:8080/",
          "height": 138
        },
        "id": "vepgozEaq5TD",
        "outputId": "410e0673-2864-4118-b0ae-7f78244d07a2"
      },
      "source": [
        "X_test"
      ],
      "execution_count": null,
      "outputs": [
        {
          "output_type": "execute_result",
          "data": {
            "text/html": [
              "<div>\n",
              "<style scoped>\n",
              "    .dataframe tbody tr th:only-of-type {\n",
              "        vertical-align: middle;\n",
              "    }\n",
              "\n",
              "    .dataframe tbody tr th {\n",
              "        vertical-align: top;\n",
              "    }\n",
              "\n",
              "    .dataframe thead th {\n",
              "        text-align: right;\n",
              "    }\n",
              "</style>\n",
              "<table border=\"1\" class=\"dataframe\">\n",
              "  <thead>\n",
              "    <tr style=\"text-align: right;\">\n",
              "      <th></th>\n",
              "      <th>TV(X)</th>\n",
              "    </tr>\n",
              "  </thead>\n",
              "  <tbody>\n",
              "    <tr>\n",
              "      <th>8</th>\n",
              "      <td>8.6</td>\n",
              "    </tr>\n",
              "    <tr>\n",
              "      <th>2</th>\n",
              "      <td>17.2</td>\n",
              "    </tr>\n",
              "    <tr>\n",
              "      <th>0</th>\n",
              "      <td>230.1</td>\n",
              "    </tr>\n",
              "  </tbody>\n",
              "</table>\n",
              "</div>"
            ],
            "text/plain": [
              "   TV(X)\n",
              "8    8.6\n",
              "2   17.2\n",
              "0  230.1"
            ]
          },
          "metadata": {
            "tags": []
          },
          "execution_count": 75
        }
      ]
    },
    {
      "cell_type": "code",
      "metadata": {
        "id": "ZGTEh44-q6SA"
      },
      "source": [
        "X_test= np.reshape(X_test, (-1,1))"
      ],
      "execution_count": null,
      "outputs": []
    },
    {
      "cell_type": "code",
      "metadata": {
        "colab": {
          "base_uri": "https://localhost:8080/",
          "height": 138
        },
        "id": "-NYMmILTq7UT",
        "outputId": "fe305e51-2a08-4295-858a-33c92c8ca9e2"
      },
      "source": [
        "X_test"
      ],
      "execution_count": null,
      "outputs": [
        {
          "output_type": "execute_result",
          "data": {
            "text/html": [
              "<div>\n",
              "<style scoped>\n",
              "    .dataframe tbody tr th:only-of-type {\n",
              "        vertical-align: middle;\n",
              "    }\n",
              "\n",
              "    .dataframe tbody tr th {\n",
              "        vertical-align: top;\n",
              "    }\n",
              "\n",
              "    .dataframe thead th {\n",
              "        text-align: right;\n",
              "    }\n",
              "</style>\n",
              "<table border=\"1\" class=\"dataframe\">\n",
              "  <thead>\n",
              "    <tr style=\"text-align: right;\">\n",
              "      <th></th>\n",
              "      <th>TV(X)</th>\n",
              "    </tr>\n",
              "  </thead>\n",
              "  <tbody>\n",
              "    <tr>\n",
              "      <th>8</th>\n",
              "      <td>8.6</td>\n",
              "    </tr>\n",
              "    <tr>\n",
              "      <th>2</th>\n",
              "      <td>17.2</td>\n",
              "    </tr>\n",
              "    <tr>\n",
              "      <th>0</th>\n",
              "      <td>230.1</td>\n",
              "    </tr>\n",
              "  </tbody>\n",
              "</table>\n",
              "</div>"
            ],
            "text/plain": [
              "   TV(X)\n",
              "8    8.6\n",
              "2   17.2\n",
              "0  230.1"
            ]
          },
          "metadata": {
            "tags": []
          },
          "execution_count": 77
        }
      ]
    },
    {
      "cell_type": "code",
      "metadata": {
        "colab": {
          "base_uri": "https://localhost:8080/"
        },
        "id": "HNmltPlAq8Xz",
        "outputId": "dc609a73-534d-4055-c00c-dc097b4d182f"
      },
      "source": [
        "#Finding optimal theta value using normal equations\n",
        "theta = theta_calc(X_train, y_train)\n",
        "intercept = theta[0]\n",
        "slope = theta[1]\n",
        "print('Intercept of the model', intercept)\n",
        "print('Slope of the model', slope)"
      ],
      "execution_count": null,
      "outputs": [
        {
          "output_type": "stream",
          "text": [
            "Intercept of the model 7.981914785454514\n",
            "Slope of the model 0.04813446461575147\n"
          ],
          "name": "stdout"
        }
      ]
    },
    {
      "cell_type": "code",
      "metadata": {
        "id": "_rZAmNvzq_DY"
      },
      "source": [
        "pred= []\n",
        "n_data = X_test.shape[0]"
      ],
      "execution_count": null,
      "outputs": []
    },
    {
      "cell_type": "code",
      "metadata": {
        "colab": {
          "base_uri": "https://localhost:8080/"
        },
        "id": "GFSN1ZvwrEx7",
        "outputId": "798a8915-21fb-4b36-f622-c67815fc71ed"
      },
      "source": [
        "n_data"
      ],
      "execution_count": null,
      "outputs": [
        {
          "output_type": "execute_result",
          "data": {
            "text/plain": [
              "3"
            ]
          },
          "metadata": {
            "tags": []
          },
          "execution_count": 86
        }
      ]
    },
    {
      "cell_type": "code",
      "metadata": {
        "id": "ml9DW29hrJFo"
      },
      "source": [
        "for i in range(n_data):\n",
        "  pred.append((slope*X_test) + intercept)"
      ],
      "execution_count": null,
      "outputs": []
    },
    {
      "cell_type": "code",
      "metadata": {
        "colab": {
          "base_uri": "https://localhost:8080/"
        },
        "id": "I4xk7uP-rQTw",
        "outputId": "ba1c15ff-b288-4971-8a9a-fdd96a4542e8"
      },
      "source": [
        "pred"
      ],
      "execution_count": null,
      "outputs": [
        {
          "output_type": "execute_result",
          "data": {
            "text/plain": [
              "[       TV(X)\n",
              " 8   8.395871\n",
              " 2   8.809828\n",
              " 0  19.057655,        TV(X)\n",
              " 8   8.395871\n",
              " 2   8.809828\n",
              " 0  19.057655,        TV(X)\n",
              " 8   8.395871\n",
              " 2   8.809828\n",
              " 0  19.057655]"
            ]
          },
          "metadata": {
            "tags": []
          },
          "execution_count": 88
        }
      ]
    },
    {
      "cell_type": "code",
      "metadata": {
        "id": "kalv4ZqQrROk"
      },
      "source": [
        "#Prediction calculation\n",
        "prediction = predict_func(slope, intercept, X_test)"
      ],
      "execution_count": null,
      "outputs": []
    },
    {
      "cell_type": "code",
      "metadata": {
        "colab": {
          "base_uri": "https://localhost:8080/"
        },
        "id": "o07sgKe7rUWW",
        "outputId": "893fa65e-7b37-4638-c1ee-4b6c039ea932"
      },
      "source": [
        "prediction"
      ],
      "execution_count": null,
      "outputs": [
        {
          "output_type": "execute_result",
          "data": {
            "text/plain": [
              "[       TV(X)\n",
              " 8   8.395871\n",
              " 2   8.809828\n",
              " 0  19.057655,        TV(X)\n",
              " 8   8.395871\n",
              " 2   8.809828\n",
              " 0  19.057655,        TV(X)\n",
              " 8   8.395871\n",
              " 2   8.809828\n",
              " 0  19.057655]"
            ]
          },
          "metadata": {
            "tags": []
          },
          "execution_count": 90
        }
      ]
    },
    {
      "cell_type": "code",
      "metadata": {
        "id": "Kz8TatLErVrq"
      },
      "source": [
        "prediction = np.asarray(prediction)"
      ],
      "execution_count": null,
      "outputs": []
    },
    {
      "cell_type": "code",
      "metadata": {
        "colab": {
          "base_uri": "https://localhost:8080/"
        },
        "id": "qAAbkU_3rXKE",
        "outputId": "48cd4a49-a6b2-4093-c9f9-7908714557bc"
      },
      "source": [
        "prediction.shape"
      ],
      "execution_count": null,
      "outputs": [
        {
          "output_type": "execute_result",
          "data": {
            "text/plain": [
              "(3, 3, 1)"
            ]
          },
          "metadata": {
            "tags": []
          },
          "execution_count": 92
        }
      ]
    },
    {
      "cell_type": "code",
      "metadata": {
        "colab": {
          "base_uri": "https://localhost:8080/"
        },
        "id": "labgSNdHrYPT",
        "outputId": "91682b9e-119a-47f4-c323-07ac49635109"
      },
      "source": [
        "y_test"
      ],
      "execution_count": null,
      "outputs": [
        {
          "output_type": "execute_result",
          "data": {
            "text/plain": [
              "8     4.8\n",
              "2    12.0\n",
              "0    22.1\n",
              "Name: Sales(Y), dtype: float64"
            ]
          },
          "metadata": {
            "tags": []
          },
          "execution_count": 93
        }
      ]
    },
    {
      "cell_type": "code",
      "metadata": {
        "id": "r0UvVscqraB_"
      },
      "source": [
        "y_test =y_test.ravel()"
      ],
      "execution_count": null,
      "outputs": []
    },
    {
      "cell_type": "code",
      "metadata": {
        "colab": {
          "base_uri": "https://localhost:8080/"
        },
        "id": "fDljp-c6rciL",
        "outputId": "a9750769-2961-4a24-eb9d-03193f12cd39"
      },
      "source": [
        "y_test"
      ],
      "execution_count": null,
      "outputs": [
        {
          "output_type": "execute_result",
          "data": {
            "text/plain": [
              "array([ 4.8, 12. , 22.1])"
            ]
          },
          "metadata": {
            "tags": []
          },
          "execution_count": 95
        }
      ]
    },
    {
      "cell_type": "code",
      "metadata": {
        "colab": {
          "base_uri": "https://localhost:8080/"
        },
        "id": "WtIkUOgvrc87",
        "outputId": "5eb82538-665f-4891-b3af-0941be625258"
      },
      "source": [
        "y_test.shape"
      ],
      "execution_count": null,
      "outputs": [
        {
          "output_type": "execute_result",
          "data": {
            "text/plain": [
              "(3,)"
            ]
          },
          "metadata": {
            "tags": []
          },
          "execution_count": 96
        }
      ]
    },
    {
      "cell_type": "code",
      "metadata": {
        "colab": {
          "base_uri": "https://localhost:8080/"
        },
        "id": "bJm-OPCQreM0",
        "outputId": "abe896f4-90b9-489a-9add-0d1535b2669f"
      },
      "source": [
        "#MSE calculation\n",
        "MSE = np.square(np.subtract(prediction, y_test)).mean()\n",
        "#error =  mse_calc(prediction, y_test)\n",
        "print('Mean squared error of the model', MSE)"
      ],
      "execution_count": null,
      "outputs": [
        {
          "output_type": "stream",
          "text": [
            "Mean squared error of the model 75.43942975734801\n"
          ],
          "name": "stdout"
        }
      ]
    },
    {
      "cell_type": "code",
      "metadata": {
        "colab": {
          "base_uri": "https://localhost:8080/"
        },
        "id": "9056EKolrfHE",
        "outputId": "f761abb1-ec97-43c8-ad48-4b801a985b05"
      },
      "source": [
        "#R-square calculation\n",
        "r2_val = rsq(prediction, y_test)\n",
        "print('R squared value', r2_val)"
      ],
      "execution_count": null,
      "outputs": [
        {
          "output_type": "stream",
          "text": [
            "R squared value -12.485002008971152\n"
          ],
          "name": "stdout"
        }
      ]
    },
    {
      "cell_type": "code",
      "metadata": {
        "id": "lA4QA1yIriEL"
      },
      "source": [
        ""
      ],
      "execution_count": null,
      "outputs": []
    }
  ]
}